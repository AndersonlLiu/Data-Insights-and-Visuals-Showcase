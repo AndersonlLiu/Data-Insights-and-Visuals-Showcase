{
 "cells": [
  {
   "cell_type": "code",
   "execution_count": 270,
   "id": "d55806fb",
   "metadata": {},
   "outputs": [],
   "source": [
    "from tensorflow import keras\n",
    "import glob\n",
    "import pandas as pd\n",
    "import re\n",
    "from string import punctuation\n",
    "import string\n",
    "import statistics\n",
    "import matplotlib.pyplot as plt\n",
    "from collections import Counter\n",
    "from keras.preprocessing.text import Tokenizer\n",
    "import numpy as np\n",
    "from tensorflow.keras.preprocessing.sequence import pad_sequences\n",
    "from keras.models import Sequential\n",
    "from keras.layers import Dense\n",
    "from keras.layers import Flatten\n",
    "from keras.layers.embeddings import Embedding\n",
    "from keras.layers import Dropout\n",
    "from keras.layers.convolutional import Conv1D\n",
    "from keras.layers import MaxPooling1D\n",
    "from keras.layers import LSTM"
   ]
  },
  {
   "cell_type": "code",
   "execution_count": 6,
   "id": "4b397a5f",
   "metadata": {},
   "outputs": [
    {
     "name": "stdout",
     "output_type": "stream",
     "text": [
      "OrderedDict([('well', 1), ('done', 1), ('good', 1), ('work', 2), ('great', 1), ('effort', 1), ('nice', 1), ('excellent', 1)])\n",
      "5\n",
      "{'work': 1, 'well': 2, 'done': 3, 'good': 4, 'great': 5, 'effort': 6, 'nice': 7, 'excellent': 8}\n",
      "defaultdict(<class 'int'>, {'well': 1, 'done': 1, 'good': 1, 'work': 2, 'effort': 1, 'great': 1, 'nice': 1, 'excellent': 1})\n",
      "[[0. 0. 1. 1. 0. 0. 0. 0. 0.]\n",
      " [0. 1. 0. 0. 1. 0. 0. 0. 0.]\n",
      " [0. 0. 0. 0. 0. 1. 1. 0. 0.]\n",
      " [0. 1. 0. 0. 0. 0. 0. 1. 0.]\n",
      " [0. 0. 0. 0. 0. 0. 0. 0. 1.]]\n"
     ]
    }
   ],
   "source": [
    "# Test Code\n",
    "from keras.preprocessing.text import Tokenizer\n",
    "# define 5 documents\n",
    "docs = ['Well done!','Good work','Great effort','nice work','Excellent!']\n",
    "# create the tokenizer\n",
    "t = Tokenizer()\n",
    "# fit the tokenizer on the documents\n",
    "t.fit_on_texts(docs)\n",
    "# summarize what was learned\n",
    "print(t.word_counts)\n",
    "print(t.document_count)\n",
    "print(t.word_index)\n",
    "print(t.word_docs)\n",
    "# integer encode documents\n",
    "encoded_docs = t.texts_to_matrix(docs, mode='count')\n",
    "print(encoded_docs)"
   ]
  },
  {
   "cell_type": "code",
   "execution_count": 16,
   "id": "25cae7b6",
   "metadata": {},
   "outputs": [],
   "source": [
    "# Split the dataset into pos or neg\n",
    "pos_files = glob.glob('../Data/pos/*.txt', \n",
    "                   recursive = True)\n",
    "neg_files = glob.glob('../Data/neg/*.txt', \n",
    "                   recursive = True)"
   ]
  },
  {
   "cell_type": "code",
   "execution_count": 185,
   "id": "2a371ff0",
   "metadata": {},
   "outputs": [],
   "source": [
    "files_df = pd.DataFrame(columns = ['FileName', 'PosOrNeg'])\n",
    "for file in pos_files:\n",
    "    new_file = file.split('/')[-2:]\n",
    "    new_name = '/'.join(name for name in new_file)\n",
    "    newline = [new_name, 1]\n",
    "    files_df.loc[len(files_df.index)] = newline\n",
    "for file in neg_files:\n",
    "    new_file = file.split('/')[-2:]\n",
    "    new_name = '/'.join(name for name in new_file)\n",
    "    newline = [new_name, 0]\n",
    "    files_df.loc[len(files_df.index)] = newline"
   ]
  },
  {
   "cell_type": "code",
   "execution_count": 186,
   "id": "1d3bf1e1",
   "metadata": {},
   "outputs": [],
   "source": [
    "# Split the train test data\n",
    "train = pd.DataFrame(columns = ['FileName', 'PosOrNeg'])\n",
    "test = pd.DataFrame(columns = ['FileName', 'PosOrNeg'])\n",
    "for index, row in files_df.iterrows():\n",
    "    if int(re.search('\\d+', row['FileName']).group(0)) > 699:\n",
    "        test.loc[len(test)] = row\n",
    "    else:\n",
    "        train.loc[len(train)] = row\n"
   ]
  },
  {
   "cell_type": "code",
   "execution_count": 114,
   "id": "bc8b61a4",
   "metadata": {},
   "outputs": [],
   "source": [
    "# Clean up the data\n",
    "# Resource: https://machinelearningmastery.com/deep-learning-bag-of-words-model-sentiment-analysis/\n",
    "# Resource: https://www.pythonpool.com/remove-punctuation-python/#:~:text=reading%20your%20code).-,By%20using%20the%20translate()%20method%20to%20Remove%20Punctuation%20From,module%20to%20use%20translate%20function.\n",
    "def cleanup(dataframe):\n",
    "    text = []\n",
    "    for index, row in dataframe.iterrows():\n",
    "        FileName = row['FileName']\n",
    "        path = '../Data'\n",
    "        new_path = path + '/' + FileName\n",
    "        file = open(new_path, 'r')\n",
    "        read_file = file.read()\n",
    "        op_string = read_file.translate(str.maketrans('', '', string.punctuation))\n",
    "        op_string = op_string.replace(\"\\n\", \"\")\n",
    "        regex = re.compile('[^a-zA-Z]')\n",
    "        result = regex.sub(' ', op_string)\n",
    "        res = re.sub(' +', ' ', result)\n",
    "        text.append(res)\n",
    "    return text\n",
    "train_text = cleanup(train)\n",
    "test_text = cleanup(test)"
   ]
  },
  {
   "cell_type": "code",
   "execution_count": 242,
   "id": "fb291662",
   "metadata": {},
   "outputs": [
    {
     "data": {
      "text/plain": [
       "616"
      ]
     },
     "execution_count": 242,
     "metadata": {},
     "output_type": "execute_result"
    }
   ],
   "source": [
    "len(train_text[0].split())"
   ]
  },
  {
   "cell_type": "code",
   "execution_count": 77,
   "id": "b0a63e3d",
   "metadata": {},
   "outputs": [],
   "source": [
    "# Count the unique words in \n",
    "def return_unique(text):\n",
    "    uniques = set()\n",
    "    l = 0\n",
    "    for review in text:\n",
    "        l += len(review)\n",
    "        unique_words = set(review.split(' '))\n",
    "        uniques |= unique_words\n",
    "    return uniques, l"
   ]
  },
  {
   "cell_type": "code",
   "execution_count": 116,
   "id": "35848462",
   "metadata": {},
   "outputs": [
    {
     "name": "stdout",
     "output_type": "stream",
     "text": [
      "the number of unique word is 46771\n"
     ]
    }
   ],
   "source": [
    "train_unique = return_unique(train_text)[0]\n",
    "test_unique = return_unique(test_text)[0]\n",
    "train_unique |= test_unique\n",
    "print(f'the number of unique word is {len(train_unique)}')"
   ]
  },
  {
   "cell_type": "code",
   "execution_count": 300,
   "id": "04fea99c",
   "metadata": {},
   "outputs": [
    {
     "name": "stdout",
     "output_type": "stream",
     "text": [
      "the standard deviation of the review length is 284.9946961190682, and the mean is 644.428\n"
     ]
    }
   ],
   "source": [
    "text = train_text + test_text\n",
    "review_length = [] \n",
    "for i in text:\n",
    "    review_length.append(len(i.split()))\n",
    "print(f'the standard deviation of the review length is {statistics.pstdev(review_length)}, and the mean is {statistics.mean(review_length)}')"
   ]
  },
  {
   "cell_type": "code",
   "execution_count": 301,
   "id": "92b8aaca",
   "metadata": {},
   "outputs": [
    {
     "data": {
      "text/plain": [
       "(array([ 75., 536., 744., 417., 136.,  53.,  23.,  13.,   0.,   3.]),\n",
       " array([  16. ,  250.7,  485.4,  720.1,  954.8, 1189.5, 1424.2, 1658.9,\n",
       "        1893.6, 2128.3, 2363. ]),\n",
       " <BarContainer object of 10 artists>)"
      ]
     },
     "execution_count": 301,
     "metadata": {},
     "output_type": "execute_result"
    },
    {
     "data": {
      "image/png": "[encoded data removed]",
      "text/plain": [
       "<Figure size 432x288 with 1 Axes>"
      ]
     },
     "metadata": {
      "needs_background": "light"
     },
     "output_type": "display_data"
    }
   ],
   "source": [
    "plt.hist(review_length)"
   ]
  },
  {
   "cell_type": "code",
   "execution_count": 286,
   "id": "2181f62b",
   "metadata": {},
   "outputs": [],
   "source": [
    "# Tokenization\n",
    "t = Tokenizer()\n",
    "t.fit_on_texts(train_text)\n",
    "train_sequences = t.texts_to_sequences(train_text)\n",
    "test_sequences = t.texts_to_sequences(test_text)\n",
    "sequence = train_sequences + test_sequences"
   ]
  },
  {
   "cell_type": "code",
   "execution_count": 303,
   "id": "301e4f54",
   "metadata": {},
   "outputs": [
    {
     "name": "stdout",
     "output_type": "stream",
     "text": [
      "70th percentile of the whole text is :  737.0\n"
     ]
    }
   ],
   "source": [
    "# find the review length\n",
    "print(\"70th percentile of the whole text is : \",\n",
    "       np.percentile(review_length, 70))"
   ]
  },
  {
   "cell_type": "code",
   "execution_count": 304,
   "id": "e454d3c5",
   "metadata": {},
   "outputs": [
    {
     "name": "stdout",
     "output_type": "stream",
     "text": [
      "the standard deviation of the train review length is 285.1092845824247, and the mean is 641.4885714285714\n",
      "70th percentile of the train text is :  730.3\n"
     ]
    },
    {
     "data": {
      "image/png": "[encoded data removed]",
      "text/plain": [
       "<Figure size 432x288 with 1 Axes>"
      ]
     },
     "metadata": {
      "needs_background": "light"
     },
     "output_type": "display_data"
    }
   ],
   "source": [
    "train_review_length = [] \n",
    "for i in train_text:\n",
    "    train_review_length.append(len(i.split()))\n",
    "print(f'the standard deviation of the train review length is {statistics.pstdev(train_review_length)}, and the mean is {statistics.mean(train_review_length)}')\n",
    "plt.hist(train_review_length)\n",
    "print(\"70th percentile of the train text is : \",\n",
    "       np.percentile(train_review_length, 70))"
   ]
  },
  {
   "cell_type": "code",
   "execution_count": 288,
   "id": "153bc67e",
   "metadata": {},
   "outputs": [],
   "source": [
    "# Adjust the review length\n",
    "new_sequences = pad_sequences(sequence, maxlen=730)"
   ]
  },
  {
   "cell_type": "code",
   "execution_count": 289,
   "id": "c026ad06",
   "metadata": {},
   "outputs": [],
   "source": [
    "train_sequence = new_sequences[:1400]\n",
    "test_sequence = new_sequences[1400:]"
   ]
  },
  {
   "cell_type": "code",
   "execution_count": 290,
   "id": "b42a7a71",
   "metadata": {},
   "outputs": [
    {
     "name": "stdout",
     "output_type": "stream",
     "text": [
      "Model: \"sequential_25\"\n",
      "_________________________________________________________________\n",
      " Layer (type)                Output Shape              Param #   \n",
      "=================================================================\n",
      " embedding_25 (Embedding)    (None, 730, 32)           1496672   \n",
      "                                                                 \n",
      " flatten_21 (Flatten)        (None, 23360)             0         \n",
      "                                                                 \n",
      " dense_74 (Dense)            (None, 50)                1168050   \n",
      "                                                                 \n",
      " dropout_48 (Dropout)        (None, 50)                0         \n",
      "                                                                 \n",
      " dense_75 (Dense)            (None, 50)                2550      \n",
      "                                                                 \n",
      " dropout_49 (Dropout)        (None, 50)                0         \n",
      "                                                                 \n",
      " dense_76 (Dense)            (None, 50)                2550      \n",
      "                                                                 \n",
      " dropout_50 (Dropout)        (None, 50)                0         \n",
      "                                                                 \n",
      " dense_77 (Dense)            (None, 1)                 51        \n",
      "                                                                 \n",
      "=================================================================\n",
      "Total params: 2,669,873\n",
      "Trainable params: 2,669,873\n",
      "Non-trainable params: 0\n",
      "_________________________________________________________________\n",
      "None\n"
     ]
    }
   ],
   "source": [
    "# Resource: https://machinelearningmastery.com/use-word-embedding-layers-deep-learning-keras/\n",
    "# define the model\n",
    "model = Sequential()\n",
    "model.add(Embedding(46771, 32, input_length = 730))\n",
    "model.add(Flatten())\n",
    "model.add(Dense(50, activation='relu'))\n",
    "model.add(Dropout(0.2))\n",
    "model.add(Dense(50, activation='relu'))\n",
    "model.add(Dropout(0.5))\n",
    "model.add(Dense(50, activation='relu'))\n",
    "model.add(Dropout(0.5))\n",
    "model.add(Dense(1, activation='sigmoid'))\n",
    "# compile the model\n",
    "model.compile(optimizer='adam', loss='binary_crossentropy', metrics=['accuracy'])\n",
    "# summarize the model\n",
    "print(model.summary())"
   ]
  },
  {
   "cell_type": "code",
   "execution_count": 291,
   "id": "0dfe81cd",
   "metadata": {},
   "outputs": [],
   "source": [
    "# Create labels array\n",
    "frame = [train, test]\n",
    "df = pd.concat(frame).reset_index().drop(columns=['index'])\n",
    "labels = df['PosOrNeg'].to_numpy()\n",
    "labels = np.asarray(labels).astype('float32')\n",
    "train_y = train['PosOrNeg'].to_numpy()\n",
    "train_y = np.asarray(train_y).astype('float32')\n",
    "test_y = test['PosOrNeg'].to_numpy()\n",
    "test_y = np.asarray(test_y).astype('float32')"
   ]
  },
  {
   "cell_type": "code",
   "execution_count": 292,
   "id": "7bdac4c4",
   "metadata": {},
   "outputs": [
    {
     "name": "stdout",
     "output_type": "stream",
     "text": [
      "Epoch 1/2\n",
      "140/140 [==============================] - 5s 31ms/step - loss: 0.6939 - accuracy: 0.4864 - val_loss: 0.6820 - val_accuracy: 0.5500\n",
      "Epoch 2/2\n",
      "140/140 [==============================] - 4s 29ms/step - loss: 0.5853 - accuracy: 0.6621 - val_loss: 0.6562 - val_accuracy: 0.6317\n",
      "Train Accuracy: 92.928571\n",
      "Test Accuracy: 63.166666\n"
     ]
    }
   ],
   "source": [
    "# fit the model\n",
    "Se_model = model.fit(train_sequence, train_y, batch_size=10, epochs=2, verbose=1, validation_data=(test_sequence, test_y))\n",
    "# evaluate the model\n",
    "loss, accuracy = model.evaluate(train_sequence, train_y, verbose=0)\n",
    "print('Train Accuracy: %f' % (accuracy*100))\n",
    "loss_test, accuracy_test = model.evaluate(test_sequence, test_y, verbose=0)\n",
    "print('Test Accuracy: %f' % (accuracy_test*100))"
   ]
  },
  {
   "cell_type": "code",
   "execution_count": 293,
   "id": "cd8b38c4",
   "metadata": {},
   "outputs": [
    {
     "name": "stdout",
     "output_type": "stream",
     "text": [
      "Model: \"sequential_26\"\n",
      "_________________________________________________________________\n",
      " Layer (type)                Output Shape              Param #   \n",
      "=================================================================\n",
      " embedding_26 (Embedding)    (None, 730, 32)           1496672   \n",
      "                                                                 \n",
      " conv1d_13 (Conv1D)          (None, 728, 32)           3104      \n",
      "                                                                 \n",
      " dense_78 (Dense)            (None, 728, 50)           1650      \n",
      "                                                                 \n",
      " max_pooling1d_11 (MaxPoolin  (None, 364, 50)          0         \n",
      " g1D)                                                            \n",
      "                                                                 \n",
      " flatten_22 (Flatten)        (None, 18200)             0         \n",
      "                                                                 \n",
      " dense_79 (Dense)            (None, 50)                910050    \n",
      "                                                                 \n",
      " dropout_51 (Dropout)        (None, 50)                0         \n",
      "                                                                 \n",
      " dense_80 (Dense)            (None, 50)                2550      \n",
      "                                                                 \n",
      " dropout_52 (Dropout)        (None, 50)                0         \n",
      "                                                                 \n",
      " dense_81 (Dense)            (None, 50)                2550      \n",
      "                                                                 \n",
      " dropout_53 (Dropout)        (None, 50)                0         \n",
      "                                                                 \n",
      " dense_82 (Dense)            (None, 1)                 51        \n",
      "                                                                 \n",
      "=================================================================\n",
      "Total params: 2,416,627\n",
      "Trainable params: 2,416,627\n",
      "Non-trainable params: 0\n",
      "_________________________________________________________________\n",
      "None\n"
     ]
    }
   ],
   "source": [
    "# Resource: https://www.datatechnotes.com/2020/02/classification-example-with-keras-cnn.html\n",
    "# define the model\n",
    "oneD_model = Sequential()\n",
    "oneD_model.add(Embedding(46771, 32, input_length = 730))\n",
    "oneD_model.add(Conv1D(32, 3, activation=\"relu\"))\n",
    "oneD_model.add(Dense(50, activation='relu'))\n",
    "oneD_model.add(MaxPooling1D(pool_size=2,strides=2))\n",
    "oneD_model.add(Flatten())\n",
    "oneD_model.add(Dense(50, activation='relu'))\n",
    "oneD_model.add(Dropout(0.2))\n",
    "oneD_model.add(Dense(50, activation='relu'))\n",
    "oneD_model.add(Dropout(0.5))\n",
    "oneD_model.add(Dense(50, activation='relu'))\n",
    "oneD_model.add(Dropout(0.5))\n",
    "oneD_model.add(Dense(1, activation='sigmoid'))\n",
    "# compile the model\n",
    "#opt = keras.optimizers.Adam(learning_rate=0.8)\n",
    "oneD_model.compile(optimizer='adam', loss='binary_crossentropy', metrics=['accuracy'])\n",
    "# summarize the model\n",
    "print(oneD_model.summary())"
   ]
  },
  {
   "cell_type": "code",
   "execution_count": 294,
   "id": "41ca71df",
   "metadata": {},
   "outputs": [
    {
     "name": "stdout",
     "output_type": "stream",
     "text": [
      "Epoch 1/2\n",
      "140/140 [==============================] - 8s 51ms/step - loss: 0.6956 - accuracy: 0.4950 - val_loss: 0.6931 - val_accuracy: 0.5117\n",
      "Epoch 2/2\n",
      "140/140 [==============================] - 7s 47ms/step - loss: 0.6923 - accuracy: 0.5036 - val_loss: 0.6902 - val_accuracy: 0.5833\n",
      "Train Accuracy: 73.857141\n",
      "Test Accuracy: 58.333331\n"
     ]
    }
   ],
   "source": [
    "m = oneD_model.fit(train_sequence, train_y, batch_size=10, epochs=2, verbose=1, validation_data=(test_sequence, test_y))\n",
    "# evaluate the model\n",
    "loss, accuracy = oneD_model.evaluate(train_sequence, train_y, verbose=0)\n",
    "print('Train Accuracy: %f' % (accuracy*100))\n",
    "loss_test, accuracy_test = oneD_model.evaluate(test_sequence, test_y, verbose=0)\n",
    "print('Test Accuracy: %f' % (accuracy_test*100))"
   ]
  },
  {
   "cell_type": "code",
   "execution_count": 295,
   "id": "8d34cee1",
   "metadata": {},
   "outputs": [
    {
     "data": {
      "text/plain": [
       "{'loss': [0.6955893039703369, 0.692290186882019],\n",
       " 'accuracy': [0.4950000047683716, 0.5035714507102966],\n",
       " 'val_loss': [0.6930631995201111, 0.6902341842651367],\n",
       " 'val_accuracy': [0.5116666555404663, 0.5833333134651184]}"
      ]
     },
     "execution_count": 295,
     "metadata": {},
     "output_type": "execute_result"
    }
   ],
   "source": [
    "# One Dimensional Convolutional Neural Network Stat\n",
    "m.history"
   ]
  },
  {
   "cell_type": "code",
   "execution_count": 296,
   "id": "77fc7b5b",
   "metadata": {},
   "outputs": [
    {
     "data": {
      "text/plain": [
       "{'loss': [0.6938961148262024, 0.5852705240249634],\n",
       " 'accuracy': [0.48642855882644653, 0.6621428728103638],\n",
       " 'val_loss': [0.6819636821746826, 0.6562114953994751],\n",
       " 'val_accuracy': [0.550000011920929, 0.6316666603088379]}"
      ]
     },
     "execution_count": 296,
     "metadata": {},
     "output_type": "execute_result"
    }
   ],
   "source": [
    "# Multi Layer Perceptron Stat\n",
    "Se_model.history"
   ]
  },
  {
   "cell_type": "code",
   "execution_count": 297,
   "id": "e7b2a31a",
   "metadata": {
    "scrolled": true
   },
   "outputs": [
    {
     "name": "stdout",
     "output_type": "stream",
     "text": [
      "Model: \"sequential_27\"\n",
      "_________________________________________________________________\n",
      " Layer (type)                Output Shape              Param #   \n",
      "=================================================================\n",
      " embedding_27 (Embedding)    (None, 730, 32)           1496672   \n",
      "                                                                 \n",
      " lstm_3 (LSTM)               (None, 32)                8320      \n",
      "                                                                 \n",
      " dropout_54 (Dropout)        (None, 32)                0         \n",
      "                                                                 \n",
      " dense_83 (Dense)            (None, 256)               8448      \n",
      "                                                                 \n",
      " dropout_55 (Dropout)        (None, 256)               0         \n",
      "                                                                 \n",
      " flatten_23 (Flatten)        (None, 256)               0         \n",
      "                                                                 \n",
      " dense_84 (Dense)            (None, 1)                 257       \n",
      "                                                                 \n",
      "=================================================================\n",
      "Total params: 1,513,697\n",
      "Trainable params: 1,513,697\n",
      "Non-trainable params: 0\n",
      "_________________________________________________________________\n",
      "None\n"
     ]
    }
   ],
   "source": [
    "# define the model\n",
    "LSTM_model = Sequential()\n",
    "LSTM_model.add(Embedding(46771, 32, input_length = 730))\n",
    "LSTM_model.add(LSTM(32))\n",
    "LSTM_model.add(Dropout(0.2))\n",
    "LSTM_model.add(Dense(256, activation='relu'))\n",
    "LSTM_model.add(Dropout(0.2))\n",
    "LSTM_model.add(Flatten())\n",
    "LSTM_model.add(Dense(1, activation='sigmoid'))\n",
    "# compile the model\n",
    "LSTM_model.compile(optimizer='adam', loss='binary_crossentropy', metrics=['accuracy'])\n",
    "# summarize the model\n",
    "print(LSTM_model.summary())"
   ]
  },
  {
   "cell_type": "code",
   "execution_count": 298,
   "id": "77e8a6f1",
   "metadata": {},
   "outputs": [
    {
     "name": "stdout",
     "output_type": "stream",
     "text": [
      "Epoch 1/20\n",
      "140/140 [==============================] - 35s 232ms/step - loss: 0.6935 - accuracy: 0.4971 - val_loss: 0.6915 - val_accuracy: 0.5083\n",
      "Epoch 2/20\n",
      "140/140 [==============================] - 31s 220ms/step - loss: 0.6028 - accuracy: 0.6921 - val_loss: 0.6487 - val_accuracy: 0.6300\n",
      "Epoch 3/20\n",
      "140/140 [==============================] - 31s 218ms/step - loss: 0.2025 - accuracy: 0.9271 - val_loss: 0.7894 - val_accuracy: 0.6750\n",
      "Epoch 4/20\n",
      "140/140 [==============================] - 30s 212ms/step - loss: 0.0379 - accuracy: 0.9879 - val_loss: 0.9540 - val_accuracy: 0.6950\n",
      "Epoch 5/20\n",
      "140/140 [==============================] - 29s 207ms/step - loss: 0.0058 - accuracy: 0.9993 - val_loss: 1.1408 - val_accuracy: 0.7233\n",
      "Epoch 6/20\n",
      "140/140 [==============================] - 30s 211ms/step - loss: 7.9733e-04 - accuracy: 1.0000 - val_loss: 1.2894 - val_accuracy: 0.7150\n",
      "Epoch 7/20\n",
      "140/140 [==============================] - 32s 231ms/step - loss: 1.6063e-04 - accuracy: 1.0000 - val_loss: 1.3494 - val_accuracy: 0.7233\n",
      "Epoch 8/20\n",
      "140/140 [==============================] - 31s 219ms/step - loss: 9.8363e-05 - accuracy: 1.0000 - val_loss: 1.4095 - val_accuracy: 0.7283\n",
      "Epoch 9/20\n",
      "140/140 [==============================] - 30s 216ms/step - loss: 6.7096e-05 - accuracy: 1.0000 - val_loss: 1.4599 - val_accuracy: 0.7300\n",
      "Epoch 10/20\n",
      "140/140 [==============================] - 29s 210ms/step - loss: 3.9743e-05 - accuracy: 1.0000 - val_loss: 1.4924 - val_accuracy: 0.7333\n",
      "Epoch 11/20\n",
      "140/140 [==============================] - 29s 209ms/step - loss: 2.6674e-05 - accuracy: 1.0000 - val_loss: 1.5168 - val_accuracy: 0.7367\n",
      "Epoch 12/20\n",
      "140/140 [==============================] - 31s 224ms/step - loss: 2.1828e-05 - accuracy: 1.0000 - val_loss: 1.5437 - val_accuracy: 0.7400\n",
      "Epoch 13/20\n",
      "140/140 [==============================] - 30s 213ms/step - loss: 2.0488e-05 - accuracy: 1.0000 - val_loss: 1.5695 - val_accuracy: 0.7450\n",
      "Epoch 14/20\n",
      "140/140 [==============================] - 29s 211ms/step - loss: 2.1237e-05 - accuracy: 1.0000 - val_loss: 1.5947 - val_accuracy: 0.7517\n",
      "Epoch 15/20\n",
      "140/140 [==============================] - 29s 210ms/step - loss: 9.6076e-06 - accuracy: 1.0000 - val_loss: 1.6186 - val_accuracy: 0.7567\n",
      "Epoch 16/20\n",
      "140/140 [==============================] - 30s 212ms/step - loss: 1.0500e-05 - accuracy: 1.0000 - val_loss: 1.6450 - val_accuracy: 0.7583\n",
      "Epoch 17/20\n",
      "140/140 [==============================] - 30s 212ms/step - loss: 1.3191e-05 - accuracy: 1.0000 - val_loss: 1.6820 - val_accuracy: 0.7567\n",
      "Epoch 18/20\n",
      "140/140 [==============================] - 29s 211ms/step - loss: 6.9767e-06 - accuracy: 1.0000 - val_loss: 1.7061 - val_accuracy: 0.7633\n",
      "Epoch 19/20\n",
      "140/140 [==============================] - 30s 211ms/step - loss: 7.8985e-06 - accuracy: 1.0000 - val_loss: 1.7321 - val_accuracy: 0.7650\n",
      "Epoch 20/20\n",
      "140/140 [==============================] - 30s 215ms/step - loss: 7.1883e-06 - accuracy: 1.0000 - val_loss: 1.7488 - val_accuracy: 0.7650\n",
      "Train Accuracy: 100.000000\n",
      "Test Accuracy: 76.499999\n"
     ]
    }
   ],
   "source": [
    "m1 = LSTM_model.fit(train_sequence, train_y, epochs=20,batch_size=10, verbose=1, validation_data=(test_sequence, test_y))\n",
    "# evaluate the model\n",
    "loss, accuracy = LSTM_model.evaluate(train_sequence, train_y, verbose=0)\n",
    "print('Train Accuracy: %f' % (accuracy*100))\n",
    "loss_test, accuracy_test = LSTM_model.evaluate(test_sequence, test_y, verbose=0)\n",
    "print('Test Accuracy: %f' % (accuracy_test*100))"
   ]
  },
  {
   "cell_type": "code",
   "execution_count": 299,
   "id": "7e9699c8",
   "metadata": {},
   "outputs": [
    {
     "data": {
      "text/plain": [
       "{'loss': [0.6934625506401062,\n",
       "  0.6028347611427307,\n",
       "  0.20247898995876312,\n",
       "  0.037921641021966934,\n",
       "  0.0058348109014332294,\n",
       "  0.0007973327883519232,\n",
       "  0.00016062990471255034,\n",
       "  9.836345998337492e-05,\n",
       "  6.709575973218307e-05,\n",
       "  3.9742917579133064e-05,\n",
       "  2.6674257242120802e-05,\n",
       "  2.1828336684848182e-05,\n",
       "  2.0488265363383107e-05,\n",
       "  2.123668309650384e-05,\n",
       "  9.607641914044507e-06,\n",
       "  1.050020000548102e-05,\n",
       "  1.3190870049584191e-05,\n",
       "  6.976717486395501e-06,\n",
       "  7.898546755313873e-06,\n",
       "  7.188267773017287e-06],\n",
       " 'accuracy': [0.49714285135269165,\n",
       "  0.6921428442001343,\n",
       "  0.927142858505249,\n",
       "  0.9878571629524231,\n",
       "  0.9992856979370117,\n",
       "  1.0,\n",
       "  1.0,\n",
       "  1.0,\n",
       "  1.0,\n",
       "  1.0,\n",
       "  1.0,\n",
       "  1.0,\n",
       "  1.0,\n",
       "  1.0,\n",
       "  1.0,\n",
       "  1.0,\n",
       "  1.0,\n",
       "  1.0,\n",
       "  1.0,\n",
       "  1.0],\n",
       " 'val_loss': [0.6914636492729187,\n",
       "  0.6486558318138123,\n",
       "  0.789353609085083,\n",
       "  0.9540170431137085,\n",
       "  1.1407883167266846,\n",
       "  1.2894335985183716,\n",
       "  1.3493889570236206,\n",
       "  1.4095467329025269,\n",
       "  1.4598900079727173,\n",
       "  1.4924248456954956,\n",
       "  1.5168414115905762,\n",
       "  1.5437498092651367,\n",
       "  1.5695348978042603,\n",
       "  1.5947179794311523,\n",
       "  1.6186070442199707,\n",
       "  1.6450386047363281,\n",
       "  1.6820322275161743,\n",
       "  1.7061195373535156,\n",
       "  1.7320919036865234,\n",
       "  1.748847246170044],\n",
       " 'val_accuracy': [0.5083333253860474,\n",
       "  0.6299999952316284,\n",
       "  0.675000011920929,\n",
       "  0.6949999928474426,\n",
       "  0.7233333587646484,\n",
       "  0.7149999737739563,\n",
       "  0.7233333587646484,\n",
       "  0.7283333539962769,\n",
       "  0.7300000190734863,\n",
       "  0.7333333492279053,\n",
       "  0.7366666793823242,\n",
       "  0.7400000095367432,\n",
       "  0.7450000047683716,\n",
       "  0.7516666650772095,\n",
       "  0.7566666603088379,\n",
       "  0.7583333253860474,\n",
       "  0.7566666603088379,\n",
       "  0.7633333206176758,\n",
       "  0.7649999856948853,\n",
       "  0.7649999856948853]}"
      ]
     },
     "execution_count": 299,
     "metadata": {},
     "output_type": "execute_result"
    }
   ],
   "source": [
    "# LSTM Model Stat\n",
    "m1.history"
   ]
  },
  {
   "cell_type": "code",
   "execution_count": null,
   "id": "2f4189ac",
   "metadata": {},
   "outputs": [],
   "source": []
  }
 ],
 "metadata": {
  "kernelspec": {
   "display_name": "Python 3 (ipykernel)",
   "language": "python",
   "name": "python3"
  },
  "language_info": {
   "codemirror_mode": {
    "name": "ipython",
    "version": 3
   },
   "file_extension": ".py",
   "mimetype": "text/x-python",
   "name": "python",
   "nbconvert_exporter": "python",
   "pygments_lexer": "ipython3",
   "version": "3.7.4"
  }
 },
 "nbformat": 4,
 "nbformat_minor": 5
}
