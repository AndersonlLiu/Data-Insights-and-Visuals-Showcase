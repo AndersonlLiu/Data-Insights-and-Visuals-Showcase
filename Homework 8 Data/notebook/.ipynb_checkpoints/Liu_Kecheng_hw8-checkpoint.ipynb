{
 "cells": [
  {
   "cell_type": "code",
   "execution_count": 204,
   "id": "ada7ebff",
   "metadata": {},
   "outputs": [],
   "source": [
    "import pandas as pd\n",
    "import numpy as np\n",
    "from sklearn.model_selection import train_test_split\n",
    "from sklearn import preprocessing\n",
    "import warnings\n",
    "warnings.filterwarnings(\"ignore\")\n",
    "from sklearn.svm import LinearSVC\n",
    "from sklearn.model_selection import GridSearchCV\n",
    "from sklearn.preprocessing import MinMaxScaler\n",
    "from sklearn.metrics import accuracy_score\n",
    "from sklearn.metrics import precision_score\n",
    "from sklearn.metrics import recall_score\n",
    "from sklearn.metrics import f1_score\n",
    "from sklearn import metrics\n",
    "from sklearn.cluster import KMeans\n",
    "from sklearn.metrics import pairwise_distances_argmin_min\n",
    "from sklearn.metrics import confusion_matrix\n",
    "from scipy.spatial.distance import euclidean\n",
    "from sklearn.cluster import SpectralClustering\n",
    "from heapq import nlargest\n",
    "import matplotlib.pyplot as plt"
   ]
  },
  {
   "cell_type": "code",
   "execution_count": 237,
   "id": "d20e9ebc",
   "metadata": {},
   "outputs": [],
   "source": [
    "# Input the data\n",
    "names = ['radius', 'texture', 'perimeter', 'area' ,'smoothness', 'compactness', 'concavity', 'concave_points', 'symmetry',  'fractal_dimension']\n",
    "paras = ['mean', 'se', 'w']\n",
    "first_two = ['ID', 'Diagnosis']\n",
    "newnames = []\n",
    "for para in paras:\n",
    "    for name in names:\n",
    "        newname = name + para\n",
    "        newnames.append(newname)\n",
    "newnames = first_two + newnames"
   ]
  },
  {
   "cell_type": "code",
   "execution_count": 238,
   "id": "59475e40",
   "metadata": {},
   "outputs": [
    {
     "data": {
      "text/html": [
       "<div>\n",
       "<style scoped>\n",
       "    .dataframe tbody tr th:only-of-type {\n",
       "        vertical-align: middle;\n",
       "    }\n",
       "\n",
       "    .dataframe tbody tr th {\n",
       "        vertical-align: top;\n",
       "    }\n",
       "\n",
       "    .dataframe thead th {\n",
       "        text-align: right;\n",
       "    }\n",
       "</style>\n",
       "<table border=\"1\" class=\"dataframe\">\n",
       "  <thead>\n",
       "    <tr style=\"text-align: right;\">\n",
       "      <th></th>\n",
       "      <th>Diagnosis</th>\n",
       "      <th>radiusmean</th>\n",
       "      <th>texturemean</th>\n",
       "      <th>perimetermean</th>\n",
       "      <th>areamean</th>\n",
       "      <th>smoothnessmean</th>\n",
       "      <th>compactnessmean</th>\n",
       "      <th>concavitymean</th>\n",
       "      <th>concave_pointsmean</th>\n",
       "      <th>symmetrymean</th>\n",
       "      <th>...</th>\n",
       "      <th>radiusw</th>\n",
       "      <th>texturew</th>\n",
       "      <th>perimeterw</th>\n",
       "      <th>areaw</th>\n",
       "      <th>smoothnessw</th>\n",
       "      <th>compactnessw</th>\n",
       "      <th>concavityw</th>\n",
       "      <th>concave_pointsw</th>\n",
       "      <th>symmetryw</th>\n",
       "      <th>fractal_dimensionw</th>\n",
       "    </tr>\n",
       "  </thead>\n",
       "  <tbody>\n",
       "    <tr>\n",
       "      <th>0</th>\n",
       "      <td>1</td>\n",
       "      <td>17.99</td>\n",
       "      <td>10.38</td>\n",
       "      <td>122.80</td>\n",
       "      <td>1001.0</td>\n",
       "      <td>0.11840</td>\n",
       "      <td>0.27760</td>\n",
       "      <td>0.30010</td>\n",
       "      <td>0.14710</td>\n",
       "      <td>0.2419</td>\n",
       "      <td>...</td>\n",
       "      <td>25.380</td>\n",
       "      <td>17.33</td>\n",
       "      <td>184.60</td>\n",
       "      <td>2019.0</td>\n",
       "      <td>0.16220</td>\n",
       "      <td>0.66560</td>\n",
       "      <td>0.7119</td>\n",
       "      <td>0.2654</td>\n",
       "      <td>0.4601</td>\n",
       "      <td>0.11890</td>\n",
       "    </tr>\n",
       "    <tr>\n",
       "      <th>1</th>\n",
       "      <td>1</td>\n",
       "      <td>20.57</td>\n",
       "      <td>17.77</td>\n",
       "      <td>132.90</td>\n",
       "      <td>1326.0</td>\n",
       "      <td>0.08474</td>\n",
       "      <td>0.07864</td>\n",
       "      <td>0.08690</td>\n",
       "      <td>0.07017</td>\n",
       "      <td>0.1812</td>\n",
       "      <td>...</td>\n",
       "      <td>24.990</td>\n",
       "      <td>23.41</td>\n",
       "      <td>158.80</td>\n",
       "      <td>1956.0</td>\n",
       "      <td>0.12380</td>\n",
       "      <td>0.18660</td>\n",
       "      <td>0.2416</td>\n",
       "      <td>0.1860</td>\n",
       "      <td>0.2750</td>\n",
       "      <td>0.08902</td>\n",
       "    </tr>\n",
       "    <tr>\n",
       "      <th>2</th>\n",
       "      <td>1</td>\n",
       "      <td>19.69</td>\n",
       "      <td>21.25</td>\n",
       "      <td>130.00</td>\n",
       "      <td>1203.0</td>\n",
       "      <td>0.10960</td>\n",
       "      <td>0.15990</td>\n",
       "      <td>0.19740</td>\n",
       "      <td>0.12790</td>\n",
       "      <td>0.2069</td>\n",
       "      <td>...</td>\n",
       "      <td>23.570</td>\n",
       "      <td>25.53</td>\n",
       "      <td>152.50</td>\n",
       "      <td>1709.0</td>\n",
       "      <td>0.14440</td>\n",
       "      <td>0.42450</td>\n",
       "      <td>0.4504</td>\n",
       "      <td>0.2430</td>\n",
       "      <td>0.3613</td>\n",
       "      <td>0.08758</td>\n",
       "    </tr>\n",
       "    <tr>\n",
       "      <th>3</th>\n",
       "      <td>1</td>\n",
       "      <td>11.42</td>\n",
       "      <td>20.38</td>\n",
       "      <td>77.58</td>\n",
       "      <td>386.1</td>\n",
       "      <td>0.14250</td>\n",
       "      <td>0.28390</td>\n",
       "      <td>0.24140</td>\n",
       "      <td>0.10520</td>\n",
       "      <td>0.2597</td>\n",
       "      <td>...</td>\n",
       "      <td>14.910</td>\n",
       "      <td>26.50</td>\n",
       "      <td>98.87</td>\n",
       "      <td>567.7</td>\n",
       "      <td>0.20980</td>\n",
       "      <td>0.86630</td>\n",
       "      <td>0.6869</td>\n",
       "      <td>0.2575</td>\n",
       "      <td>0.6638</td>\n",
       "      <td>0.17300</td>\n",
       "    </tr>\n",
       "    <tr>\n",
       "      <th>4</th>\n",
       "      <td>1</td>\n",
       "      <td>20.29</td>\n",
       "      <td>14.34</td>\n",
       "      <td>135.10</td>\n",
       "      <td>1297.0</td>\n",
       "      <td>0.10030</td>\n",
       "      <td>0.13280</td>\n",
       "      <td>0.19800</td>\n",
       "      <td>0.10430</td>\n",
       "      <td>0.1809</td>\n",
       "      <td>...</td>\n",
       "      <td>22.540</td>\n",
       "      <td>16.67</td>\n",
       "      <td>152.20</td>\n",
       "      <td>1575.0</td>\n",
       "      <td>0.13740</td>\n",
       "      <td>0.20500</td>\n",
       "      <td>0.4000</td>\n",
       "      <td>0.1625</td>\n",
       "      <td>0.2364</td>\n",
       "      <td>0.07678</td>\n",
       "    </tr>\n",
       "    <tr>\n",
       "      <th>...</th>\n",
       "      <td>...</td>\n",
       "      <td>...</td>\n",
       "      <td>...</td>\n",
       "      <td>...</td>\n",
       "      <td>...</td>\n",
       "      <td>...</td>\n",
       "      <td>...</td>\n",
       "      <td>...</td>\n",
       "      <td>...</td>\n",
       "      <td>...</td>\n",
       "      <td>...</td>\n",
       "      <td>...</td>\n",
       "      <td>...</td>\n",
       "      <td>...</td>\n",
       "      <td>...</td>\n",
       "      <td>...</td>\n",
       "      <td>...</td>\n",
       "      <td>...</td>\n",
       "      <td>...</td>\n",
       "      <td>...</td>\n",
       "      <td>...</td>\n",
       "    </tr>\n",
       "    <tr>\n",
       "      <th>564</th>\n",
       "      <td>1</td>\n",
       "      <td>21.56</td>\n",
       "      <td>22.39</td>\n",
       "      <td>142.00</td>\n",
       "      <td>1479.0</td>\n",
       "      <td>0.11100</td>\n",
       "      <td>0.11590</td>\n",
       "      <td>0.24390</td>\n",
       "      <td>0.13890</td>\n",
       "      <td>0.1726</td>\n",
       "      <td>...</td>\n",
       "      <td>25.450</td>\n",
       "      <td>26.40</td>\n",
       "      <td>166.10</td>\n",
       "      <td>2027.0</td>\n",
       "      <td>0.14100</td>\n",
       "      <td>0.21130</td>\n",
       "      <td>0.4107</td>\n",
       "      <td>0.2216</td>\n",
       "      <td>0.2060</td>\n",
       "      <td>0.07115</td>\n",
       "    </tr>\n",
       "    <tr>\n",
       "      <th>565</th>\n",
       "      <td>1</td>\n",
       "      <td>20.13</td>\n",
       "      <td>28.25</td>\n",
       "      <td>131.20</td>\n",
       "      <td>1261.0</td>\n",
       "      <td>0.09780</td>\n",
       "      <td>0.10340</td>\n",
       "      <td>0.14400</td>\n",
       "      <td>0.09791</td>\n",
       "      <td>0.1752</td>\n",
       "      <td>...</td>\n",
       "      <td>23.690</td>\n",
       "      <td>38.25</td>\n",
       "      <td>155.00</td>\n",
       "      <td>1731.0</td>\n",
       "      <td>0.11660</td>\n",
       "      <td>0.19220</td>\n",
       "      <td>0.3215</td>\n",
       "      <td>0.1628</td>\n",
       "      <td>0.2572</td>\n",
       "      <td>0.06637</td>\n",
       "    </tr>\n",
       "    <tr>\n",
       "      <th>566</th>\n",
       "      <td>1</td>\n",
       "      <td>16.60</td>\n",
       "      <td>28.08</td>\n",
       "      <td>108.30</td>\n",
       "      <td>858.1</td>\n",
       "      <td>0.08455</td>\n",
       "      <td>0.10230</td>\n",
       "      <td>0.09251</td>\n",
       "      <td>0.05302</td>\n",
       "      <td>0.1590</td>\n",
       "      <td>...</td>\n",
       "      <td>18.980</td>\n",
       "      <td>34.12</td>\n",
       "      <td>126.70</td>\n",
       "      <td>1124.0</td>\n",
       "      <td>0.11390</td>\n",
       "      <td>0.30940</td>\n",
       "      <td>0.3403</td>\n",
       "      <td>0.1418</td>\n",
       "      <td>0.2218</td>\n",
       "      <td>0.07820</td>\n",
       "    </tr>\n",
       "    <tr>\n",
       "      <th>567</th>\n",
       "      <td>1</td>\n",
       "      <td>20.60</td>\n",
       "      <td>29.33</td>\n",
       "      <td>140.10</td>\n",
       "      <td>1265.0</td>\n",
       "      <td>0.11780</td>\n",
       "      <td>0.27700</td>\n",
       "      <td>0.35140</td>\n",
       "      <td>0.15200</td>\n",
       "      <td>0.2397</td>\n",
       "      <td>...</td>\n",
       "      <td>25.740</td>\n",
       "      <td>39.42</td>\n",
       "      <td>184.60</td>\n",
       "      <td>1821.0</td>\n",
       "      <td>0.16500</td>\n",
       "      <td>0.86810</td>\n",
       "      <td>0.9387</td>\n",
       "      <td>0.2650</td>\n",
       "      <td>0.4087</td>\n",
       "      <td>0.12400</td>\n",
       "    </tr>\n",
       "    <tr>\n",
       "      <th>568</th>\n",
       "      <td>0</td>\n",
       "      <td>7.76</td>\n",
       "      <td>24.54</td>\n",
       "      <td>47.92</td>\n",
       "      <td>181.0</td>\n",
       "      <td>0.05263</td>\n",
       "      <td>0.04362</td>\n",
       "      <td>0.00000</td>\n",
       "      <td>0.00000</td>\n",
       "      <td>0.1587</td>\n",
       "      <td>...</td>\n",
       "      <td>9.456</td>\n",
       "      <td>30.37</td>\n",
       "      <td>59.16</td>\n",
       "      <td>268.6</td>\n",
       "      <td>0.08996</td>\n",
       "      <td>0.06444</td>\n",
       "      <td>0.0000</td>\n",
       "      <td>0.0000</td>\n",
       "      <td>0.2871</td>\n",
       "      <td>0.07039</td>\n",
       "    </tr>\n",
       "  </tbody>\n",
       "</table>\n",
       "<p>569 rows × 31 columns</p>\n",
       "</div>"
      ],
      "text/plain": [
       "     Diagnosis  radiusmean  texturemean  perimetermean  areamean  \\\n",
       "0            1       17.99        10.38         122.80    1001.0   \n",
       "1            1       20.57        17.77         132.90    1326.0   \n",
       "2            1       19.69        21.25         130.00    1203.0   \n",
       "3            1       11.42        20.38          77.58     386.1   \n",
       "4            1       20.29        14.34         135.10    1297.0   \n",
       "..         ...         ...          ...            ...       ...   \n",
       "564          1       21.56        22.39         142.00    1479.0   \n",
       "565          1       20.13        28.25         131.20    1261.0   \n",
       "566          1       16.60        28.08         108.30     858.1   \n",
       "567          1       20.60        29.33         140.10    1265.0   \n",
       "568          0        7.76        24.54          47.92     181.0   \n",
       "\n",
       "     smoothnessmean  compactnessmean  concavitymean  concave_pointsmean  \\\n",
       "0           0.11840          0.27760        0.30010             0.14710   \n",
       "1           0.08474          0.07864        0.08690             0.07017   \n",
       "2           0.10960          0.15990        0.19740             0.12790   \n",
       "3           0.14250          0.28390        0.24140             0.10520   \n",
       "4           0.10030          0.13280        0.19800             0.10430   \n",
       "..              ...              ...            ...                 ...   \n",
       "564         0.11100          0.11590        0.24390             0.13890   \n",
       "565         0.09780          0.10340        0.14400             0.09791   \n",
       "566         0.08455          0.10230        0.09251             0.05302   \n",
       "567         0.11780          0.27700        0.35140             0.15200   \n",
       "568         0.05263          0.04362        0.00000             0.00000   \n",
       "\n",
       "     symmetrymean  ...  radiusw  texturew  perimeterw   areaw  smoothnessw  \\\n",
       "0          0.2419  ...   25.380     17.33      184.60  2019.0      0.16220   \n",
       "1          0.1812  ...   24.990     23.41      158.80  1956.0      0.12380   \n",
       "2          0.2069  ...   23.570     25.53      152.50  1709.0      0.14440   \n",
       "3          0.2597  ...   14.910     26.50       98.87   567.7      0.20980   \n",
       "4          0.1809  ...   22.540     16.67      152.20  1575.0      0.13740   \n",
       "..            ...  ...      ...       ...         ...     ...          ...   \n",
       "564        0.1726  ...   25.450     26.40      166.10  2027.0      0.14100   \n",
       "565        0.1752  ...   23.690     38.25      155.00  1731.0      0.11660   \n",
       "566        0.1590  ...   18.980     34.12      126.70  1124.0      0.11390   \n",
       "567        0.2397  ...   25.740     39.42      184.60  1821.0      0.16500   \n",
       "568        0.1587  ...    9.456     30.37       59.16   268.6      0.08996   \n",
       "\n",
       "     compactnessw  concavityw  concave_pointsw  symmetryw  fractal_dimensionw  \n",
       "0         0.66560      0.7119           0.2654     0.4601             0.11890  \n",
       "1         0.18660      0.2416           0.1860     0.2750             0.08902  \n",
       "2         0.42450      0.4504           0.2430     0.3613             0.08758  \n",
       "3         0.86630      0.6869           0.2575     0.6638             0.17300  \n",
       "4         0.20500      0.4000           0.1625     0.2364             0.07678  \n",
       "..            ...         ...              ...        ...                 ...  \n",
       "564       0.21130      0.4107           0.2216     0.2060             0.07115  \n",
       "565       0.19220      0.3215           0.1628     0.2572             0.06637  \n",
       "566       0.30940      0.3403           0.1418     0.2218             0.07820  \n",
       "567       0.86810      0.9387           0.2650     0.4087             0.12400  \n",
       "568       0.06444      0.0000           0.0000     0.2871             0.07039  \n",
       "\n",
       "[569 rows x 31 columns]"
      ]
     },
     "execution_count": 238,
     "metadata": {},
     "output_type": "execute_result"
    }
   ],
   "source": [
    "df = pd.read_csv('../data/wdbc.data', names = newnames)\n",
    "df_new = df.drop(columns=['ID'])\n",
    "df_new['Diagnosis'] = df_new.Diagnosis.replace(to_replace=['M', 'B'], value=[1, 0])\n",
    "df_new"
   ]
  },
  {
   "cell_type": "code",
   "execution_count": 239,
   "id": "0c671553",
   "metadata": {},
   "outputs": [],
   "source": [
    "y = df_new['Diagnosis']\n",
    "X = df_new.iloc[:, 1:]"
   ]
  },
  {
   "cell_type": "code",
   "execution_count": null,
   "id": "546faca3",
   "metadata": {},
   "outputs": [],
   "source": [
    "# Not include in assignment\n",
    "####################################################################################################"
   ]
  },
  {
   "cell_type": "code",
   "execution_count": 206,
   "id": "5528a811",
   "metadata": {},
   "outputs": [],
   "source": [
    "X_train,X_test,y_train,y_test = train_test_split(X, y ,train_size=0.8, stratify=y)\n",
    "scaler = MinMaxScaler()\n",
    "X_fit = scaler.fit(X_train)\n",
    "X_train_max = X_fit.transform(X_train)\n",
    "X_test_max = X_fit.transform(X_test)\n",
    "X_train_new = pd.DataFrame(X_train_max, columns = X_train.columns)\n",
    "X_test_new = pd.DataFrame(X_test_max, columns = X_train.columns)"
   ]
  },
  {
   "cell_type": "code",
   "execution_count": 214,
   "id": "41d75e8e",
   "metadata": {},
   "outputs": [],
   "source": [
    "# Split data for semi_supervised data\n",
    "train_data = pd.concat([y_train.reset_index(), X_train_new], axis=1, join=\"inner\")\n",
    "train_data = train_data.drop(['index'], axis=1)\n",
    "train_data1 = train_data[train_data.Diagnosis == 1].sample(frac =.50)\n",
    "train_data2 = train_data[train_data.Diagnosis == 0].sample(frac =.50)\n",
    "semi_train_data = pd.concat([train_data1, train_data2])\n",
    "X_train_semi = semi_train_data.iloc[:, 1:]\n",
    "y_train_semi = semi_train_data['Diagnosis']\n",
    "X_train_unlabel = X_train_new.loc[~X_train_new.index.isin(X_train_semi.index)]"
   ]
  },
  {
   "cell_type": "code",
   "execution_count": 175,
   "id": "e2ce03b7",
   "metadata": {},
   "outputs": [
    {
     "data": {
      "text/plain": [
       "{'C': 1.0}"
      ]
     },
     "execution_count": 175,
     "metadata": {},
     "output_type": "execute_result"
    }
   ],
   "source": [
    "tuned_parameters = [{'C': np.logspace(0, 5, num = 10)}]\n",
    "svm = LinearSVC(penalty = 'l1', dual = False)\n",
    "grid = GridSearchCV(svm, tuned_parameters, cv=5, scoring='accuracy')\n",
    "grid.fit(X_train_new, y_train)\n",
    "grid.best_params_"
   ]
  },
  {
   "cell_type": "code",
   "execution_count": 176,
   "id": "a057a7c5",
   "metadata": {},
   "outputs": [],
   "source": [
    "# Train the labeled classifier\n",
    "svc_linear = LinearSVC(penalty = 'l1',C = 1, dual = False)\n",
    "svc_linear.fit(X_train_new, y_train)\n",
    "\n",
    "# test stat\n",
    "y_pred_linear = svc_linear.predict(X_test_new)\n",
    "socre_linear = accuracy_score(y_test, y_pred_linear)\n",
    "precision_linear = precision_score(y_test, y_pred_linear, average='binary')\n",
    "recal_linear = recall_score(y_test, y_pred_linear, average='binary')\n",
    "f1_linear = f1_score(y_test, y_pred_linear, average='binary')\n",
    "fpr, tpr, thresholds = metrics.roc_curve(y_test, y_pred_linear)\n",
    "auc_linear = metrics.auc(fpr, tpr)\n",
    "\n",
    "# train stat\n",
    "y_pred_linear_train = svc_linear.predict(X_train_new)\n",
    "socre_linear_train = accuracy_score(y_train, y_pred_linear_train)\n",
    "precision_linear_train = precision_score(y_train, y_pred_linear_train, average='binary')\n",
    "recal_linear_train = recall_score(y_train, y_pred_linear_train, average='binary')\n",
    "f1_linear_train = f1_score(y_train, y_pred_linear_train, average='binary')\n",
    "fpr_train, tpr_train, thresholds_train = metrics.roc_curve(y_train, y_pred_linear_train)\n",
    "auc_linear_train = metrics.auc(fpr_train, tpr_train)\n"
   ]
  },
  {
   "cell_type": "code",
   "execution_count": null,
   "id": "88e217d7",
   "metadata": {},
   "outputs": [],
   "source": [
    "####################################################################################################"
   ]
  },
  {
   "cell_type": "code",
   "execution_count": 228,
   "id": "697251ba",
   "metadata": {},
   "outputs": [],
   "source": [
    "# Supervised learning\n",
    "supervised_df_train = pd.DataFrame(columns = ['score', 'precision', 'recal', 'f1', 'AUC'])\n",
    "supervised_df_test = pd.DataFrame(columns = ['score', 'precision', 'recal', 'f1', 'AUC'])\n",
    "for m in range(1,31):\n",
    "    # Split the data\n",
    "    X_train,X_test,y_train,y_test = train_test_split(X, y ,train_size=0.8, stratify=y)\n",
    "    scaler = MinMaxScaler()\n",
    "    X_fit = scaler.fit(X_train)\n",
    "    X_train_max = X_fit.transform(X_train)\n",
    "    X_test_max = X_fit.transform(X_test)\n",
    "    X_train_new = pd.DataFrame(X_train_max, columns = X_train.columns)\n",
    "    X_test_new = pd.DataFrame(X_test_max, columns = X_train.columns)\n",
    "    \n",
    "    # Cross validate the C\n",
    "    tuned_parameters = [{'C': np.logspace(0, 5, num = 10)}]\n",
    "    svm = LinearSVC(penalty = 'l1', dual = False)\n",
    "    grid = GridSearchCV(svm, tuned_parameters, cv=5, scoring='accuracy')\n",
    "    grid.fit(X_train_new, y_train)\n",
    "    best_C = grid.best_params_['C']\n",
    "    \n",
    "    # Train the labeled classifier\n",
    "    svc_linear = LinearSVC(penalty = 'l1',C = best_C, dual = False)\n",
    "    svc_linear.fit(X_train_new, y_train)\n",
    "\n",
    "    # test stat\n",
    "    y_pred_linear = svc_linear.predict(X_test_new)\n",
    "    socre_linear = accuracy_score(y_test, y_pred_linear)\n",
    "    precision_linear = precision_score(y_test, y_pred_linear, average='binary')\n",
    "    recal_linear = recall_score(y_test, y_pred_linear, average='binary')\n",
    "    f1_linear = f1_score(y_test, y_pred_linear, average='binary')\n",
    "    fpr, tpr, thresholds = metrics.roc_curve(y_test, y_pred_linear)\n",
    "    auc_linear = metrics.auc(fpr, tpr)\n",
    "\n",
    "    # train stat\n",
    "    y_pred_linear_train = svc_linear.predict(X_train_new)\n",
    "    socre_linear_train = accuracy_score(y_train, y_pred_linear_train)\n",
    "    precision_linear_train = precision_score(y_train, y_pred_linear_train, average='binary')\n",
    "    recal_linear_train = recall_score(y_train, y_pred_linear_train, average='binary')\n",
    "    f1_linear_train = f1_score(y_train, y_pred_linear_train, average='binary')\n",
    "    fpr_train, tpr_train, thresholds_train = metrics.roc_curve(y_train, y_pred_linear_train)\n",
    "    auc_linear_train = metrics.auc(fpr_train, tpr_train)\n",
    "    \n",
    "    length = len(supervised_df_train)\n",
    "    supervised_df_train.loc[length] = [socre_linear_train, precision_linear_train, recal_linear_train, f1_linear_train, auc_linear_train]\n",
    "    supervised_df_test.loc[length] = [socre_linear, precision_linear, recal_linear, f1_linear, auc_linear]"
   ]
  },
  {
   "cell_type": "code",
   "execution_count": 229,
   "id": "b0a46844",
   "metadata": {},
   "outputs": [
    {
     "data": {
      "text/plain": [
       "score        0.991250\n",
       "precision    0.982931\n",
       "recal        0.997833\n",
       "f1           0.990323\n",
       "AUC          0.991864\n",
       "dtype: float64"
      ]
     },
     "execution_count": 229,
     "metadata": {},
     "output_type": "execute_result"
    }
   ],
   "source": [
    "supervised_df_train.mean()"
   ]
  },
  {
   "cell_type": "code",
   "execution_count": 230,
   "id": "ae0a9905",
   "metadata": {},
   "outputs": [
    {
     "data": {
      "text/plain": [
       "score        0.989444\n",
       "precision    0.979227\n",
       "recal        0.997942\n",
       "f1           0.988432\n",
       "AUC          0.990217\n",
       "dtype: float64"
      ]
     },
     "execution_count": 230,
     "metadata": {},
     "output_type": "execute_result"
    }
   ],
   "source": [
    "supervised_df_test.mean()"
   ]
  },
  {
   "cell_type": "code",
   "execution_count": 231,
   "id": "57577c2b",
   "metadata": {},
   "outputs": [
    {
     "data": {
      "text/plain": [
       "array([[98,  1],\n",
       "       [ 0, 81]])"
      ]
     },
     "execution_count": 231,
     "metadata": {},
     "output_type": "execute_result"
    }
   ],
   "source": [
    "# test confusion matirx\n",
    "confusion_matrix(y_test, y_pred_linear)"
   ]
  },
  {
   "cell_type": "code",
   "execution_count": 232,
   "id": "b2929d71",
   "metadata": {},
   "outputs": [
    {
     "data": {
      "text/plain": [
       "array([[391,   6],\n",
       "       [  1, 322]])"
      ]
     },
     "execution_count": 232,
     "metadata": {},
     "output_type": "execute_result"
    }
   ],
   "source": [
    "# train confusion matrix\n",
    "confusion_matrix(y_train, y_pred_linear_train)"
   ]
  },
  {
   "cell_type": "code",
   "execution_count": 233,
   "id": "2eb01de0",
   "metadata": {},
   "outputs": [
    {
     "data": {
      "image/png": "[encoded data removed]",
      "text/plain": [
       "<Figure size 432x288 with 1 Axes>"
      ]
     },
     "metadata": {
      "needs_background": "light"
     },
     "output_type": "display_data"
    }
   ],
   "source": [
    "# ROC for test\n",
    "plt.plot(fpr, tpr)\n",
    "plt.ylabel('True Positive Rate')\n",
    "plt.xlabel('False Positive Rate')\n",
    "plt.show()"
   ]
  },
  {
   "cell_type": "code",
   "execution_count": 234,
   "id": "a4f374c0",
   "metadata": {},
   "outputs": [
    {
     "data": {
      "image/png": "[encoded data removed]",
      "text/plain": [
       "<Figure size 432x288 with 1 Axes>"
      ]
     },
     "metadata": {
      "needs_background": "light"
     },
     "output_type": "display_data"
    }
   ],
   "source": [
    "# ROC for train\n",
    "plt.plot(fpr_train, tpr_train)\n",
    "plt.ylabel('True Positive Rate')\n",
    "plt.xlabel('False Positive Rate')\n",
    "plt.show()"
   ]
  },
  {
   "cell_type": "code",
   "execution_count": 177,
   "id": "a9defec0",
   "metadata": {},
   "outputs": [
    {
     "data": {
      "text/plain": [
       "{'C': 3.5938136638046276}"
      ]
     },
     "execution_count": 177,
     "metadata": {},
     "output_type": "execute_result"
    }
   ],
   "source": [
    "# Fit the semi labeled classifier\n",
    "tuned_parameters = [{'C': np.logspace(0, 5, num = 10)}]\n",
    "svm = LinearSVC(penalty = 'l1', dual = False)\n",
    "grid = GridSearchCV(svm, tuned_parameters, cv=5, scoring='accuracy')\n",
    "grid.fit(X_train_semi, y_train_semi)\n",
    "grid.best_params_"
   ]
  },
  {
   "cell_type": "code",
   "execution_count": 135,
   "id": "9e5ffb6f",
   "metadata": {},
   "outputs": [
    {
     "data": {
      "text/plain": [
       "LinearSVC(C=3.5938136638046276, class_weight=None, dual=False,\n",
       "          fit_intercept=True, intercept_scaling=1, loss='squared_hinge',\n",
       "          max_iter=1000, multi_class='ovr', penalty='l1', random_state=None,\n",
       "          tol=0.0001, verbose=0)"
      ]
     },
     "execution_count": 135,
     "metadata": {},
     "output_type": "execute_result"
    }
   ],
   "source": [
    "# Train the semi_labeled classifier\n",
    "svc_linear_semi = LinearSVC(penalty = 'l1',C = 3.5938136638046276, dual = False)\n",
    "svc_linear_semi.fit(X_train_semi, y_train_semi)\n"
   ]
  },
  {
   "cell_type": "code",
   "execution_count": 167,
   "id": "53b16bb4",
   "metadata": {},
   "outputs": [],
   "source": [
    "# Get the farthest unlabeled point\n",
    "X_train_unlabel_new = X_train_unlabel.reset_index()\n",
    "X_train_unlabel_final = X_train_unlabel_new.drop(['index'], axis = 1)\n",
    "distance = abs(svc_linear_semi.decision_function(X_train_unlabel_final)).tolist()\n",
    "farthest_index = distance.index(max(distance))\n",
    "farthest = X_train_unlabel_final.iloc[[farthest_index]]\n",
    "X_train_semi_new = X_train_semi.append(farthest, ignore_index = True)\n",
    "y_train_semi_new = y_train_semi.append(pd.Series(svc_linear_semi.predict(farthest)), ignore_index = True)\n",
    "X_train_unlabel_changed = X_train_unlabel_final.drop(farthest_index)\n"
   ]
  },
  {
   "cell_type": "code",
   "execution_count": 215,
   "id": "ba3c80b8",
   "metadata": {},
   "outputs": [],
   "source": [
    "X_train_unlabel = X_train_unlabel.reset_index()\n",
    "X_train_unlabel = X_train_unlabel.drop(['index'], axis = 1)\n",
    "length = len(X_train_unlabel)\n",
    "while X_train_unlabel.empty != True:\n",
    "    \n",
    "    # Cross Validate the C\n",
    "    tuned_parameters = [{'C': np.logspace(0, 5, num = 10)}]\n",
    "    svm = LinearSVC(penalty = 'l1', dual = False)\n",
    "    grid = GridSearchCV(svm, tuned_parameters, cv=5, scoring='accuracy')\n",
    "    grid.fit(X_train_semi, y_train_semi)\n",
    "    \n",
    "    # Fit the data using best C\n",
    "    svc_linear_semi = LinearSVC(penalty = 'l1',C = grid.best_params_['C'], dual = False)\n",
    "    svc_linear_semi.fit(X_train_semi, y_train_semi)\n",
    "    \n",
    "    # Get the farthest unlabeled point\n",
    "    distance = abs(svc_linear_semi.decision_function(X_train_unlabel)).tolist()\n",
    "    farthest_index = distance.index(max(distance))\n",
    "    farthest = X_train_unlabel.iloc[[farthest_index]]\n",
    "    X_train_semi = X_train_semi.append(farthest, ignore_index = True)\n",
    "    y_train_semi = y_train_semi.append(pd.Series(svc_linear_semi.predict(farthest)), ignore_index = True)\n",
    "    X_train_unlabel = X_train_unlabel.drop(farthest_index)\n",
    "    X_train_unlabel = X_train_unlabel.reset_index()\n",
    "    X_train_unlabel = X_train_unlabel.drop(['index'], axis = 1)\n",
    "    "
   ]
  },
  {
   "cell_type": "code",
   "execution_count": 216,
   "id": "4f1db718",
   "metadata": {},
   "outputs": [],
   "source": [
    "# test stat for semi\n",
    "y_pred_semi = svc_linear_semi.predict(X_test_new)\n",
    "socre_semi = accuracy_score(y_test, y_pred_semi)\n",
    "precision_semi = precision_score(y_test, y_pred_semi, average='binary')\n",
    "recal_semi = recall_score(y_test, y_pred_semi, average='binary')\n",
    "f1_semi = f1_score(y_test, y_pred_semi, average='binary')\n",
    "fpr_semi, tpr_semi, thresholds = metrics.roc_curve(y_test, y_pred_semi)\n",
    "auc_semi = metrics.auc(fpr_semi, tpr_semi)\n",
    "\n",
    "# train stat for semi\n",
    "y_pred_semi_train = svc_linear.predict(X_train_semi)\n",
    "socre_semi_train = accuracy_score(y_train, y_pred_semi_train)\n",
    "precision_semi_train = precision_score(y_train, y_pred_semi_train, average='binary')\n",
    "recal_semi_train = recall_score(y_train, y_pred_semi_train, average='binary')\n",
    "f1_semi_train = f1_score(y_train, y_pred_semi_train, average='binary')\n",
    "fpr_semi_train, tpr_semi_train, thresholds_train = metrics.roc_curve(y_train, y_pred_semi_train)\n",
    "auc_semi_train = metrics.auc(fpr_semi_train, tpr_semi_train)"
   ]
  },
  {
   "cell_type": "code",
   "execution_count": 242,
   "id": "24b33c7c",
   "metadata": {},
   "outputs": [],
   "source": [
    "# Semi-supervised learning\n",
    "semi_supervised_df_train = pd.DataFrame(columns = ['score', 'precision', 'recal', 'f1', 'AUC'])\n",
    "semi_supervised_df_test = pd.DataFrame(columns = ['score', 'precision', 'recal', 'f1', 'AUC'])\n",
    "for m in range (1,31):\n",
    "    # Split the data\n",
    "    X_train,X_test,y_train,y_test = train_test_split(X, y ,train_size=0.8, stratify=y)\n",
    "    scaler = MinMaxScaler()\n",
    "    X_fit = scaler.fit(X_train)\n",
    "    X_train_max = X_fit.transform(X_train)\n",
    "    X_test_max = X_fit.transform(X_test)\n",
    "    X_train_new = pd.DataFrame(X_train_max, columns = X_train.columns)\n",
    "    X_test_new = pd.DataFrame(X_test_max, columns = X_train.columns)\n",
    "    \n",
    "    # Split data for semi_supervised data\n",
    "    train_data = pd.concat([y_train.reset_index(), X_train_new], axis=1, join=\"inner\")\n",
    "    train_data = train_data.drop(['index'], axis=1)\n",
    "    train_data1 = train_data[train_data.Diagnosis == 1].sample(frac =.50)\n",
    "    train_data2 = train_data[train_data.Diagnosis == 0].sample(frac =.50)\n",
    "    semi_train_data = pd.concat([train_data1, train_data2])\n",
    "    X_train_semi = semi_train_data.iloc[:, 1:]\n",
    "    y_train_semi = semi_train_data['Diagnosis']\n",
    "    X_train_unlabel = X_train_new.loc[~X_train_new.index.isin(X_train_semi.index)]\n",
    "    X_train_unlabel = X_train_unlabel.reset_index()\n",
    "    X_train_unlabel = X_train_unlabel.drop(['index'], axis = 1)\n",
    "    length = len(X_train_unlabel)\n",
    "    \n",
    "    while X_train_unlabel.empty != True:\n",
    "    \n",
    "        # Cross Validate the C\n",
    "        tuned_parameters = [{'C': np.logspace(0, 5, num = 10)}]\n",
    "        svm = LinearSVC(penalty = 'l1', dual = False)\n",
    "        grid = GridSearchCV(svm, tuned_parameters, cv=5, scoring='accuracy')\n",
    "        grid.fit(X_train_semi, y_train_semi)\n",
    "    \n",
    "        # Fit the data using best C\n",
    "        svc_linear_semi = LinearSVC(penalty = 'l1',C = grid.best_params_['C'], dual = False)\n",
    "        svc_linear_semi.fit(X_train_semi, y_train_semi)\n",
    "    \n",
    "        # Get the farthest unlabeled point\n",
    "        distance = abs(svc_linear_semi.decision_function(X_train_unlabel)).tolist()\n",
    "        farthest_index = distance.index(max(distance))\n",
    "        farthest = X_train_unlabel.iloc[[farthest_index]]\n",
    "        X_train_semi = X_train_semi.append(farthest, ignore_index = True)\n",
    "        y_train_semi = y_train_semi.append(pd.Series(svc_linear_semi.predict(farthest)), ignore_index = True)\n",
    "        X_train_unlabel = X_train_unlabel.drop(farthest_index)\n",
    "        X_train_unlabel = X_train_unlabel.reset_index()\n",
    "        X_train_unlabel = X_train_unlabel.drop(['index'], axis = 1)\n",
    "        \n",
    "    # test stat for semi\n",
    "    y_pred_semi = svc_linear_semi.predict(X_test_new)\n",
    "    socre_semi = accuracy_score(y_test, y_pred_semi)\n",
    "    precision_semi = precision_score(y_test, y_pred_semi, average='binary')\n",
    "    recal_semi = recall_score(y_test, y_pred_semi, average='binary')\n",
    "    f1_semi = f1_score(y_test, y_pred_semi, average='binary')\n",
    "    fpr_semi, tpr_semi, thresholds = metrics.roc_curve(y_test, y_pred_semi)\n",
    "    auc_semi = metrics.auc(fpr_semi, tpr_semi)\n",
    "\n",
    "    # train stat for semi\n",
    "    y_pred_semi_train = svc_linear_semi.predict(X_train_semi)\n",
    "    socre_semi_train = accuracy_score(y_train, y_pred_semi_train)\n",
    "    precision_semi_train = precision_score(y_train, y_pred_semi_train, average='binary')\n",
    "    recal_semi_train = recall_score(y_train, y_pred_semi_train, average='binary')\n",
    "    f1_semi_train = f1_score(y_train, y_pred_semi_train, average='binary')\n",
    "    fpr_semi_train, tpr_semi_train, thresholds_train = metrics.roc_curve(y_train, y_pred_semi_train)\n",
    "    auc_semi_train = metrics.auc(fpr_semi_train, tpr_semi_train)\n",
    "    \n",
    "    length = len(semi_supervised_df_train)\n",
    "    semi_supervised_df_train.loc[length] = [socre_semi, precision_semi, recal_semi, f1_semi, auc_semi]\n",
    "    semi_supervised_df_test.loc[length] = [socre_semi_train, precision_semi_train, recal_semi_train, f1_semi_train, auc_semi_train]"
   ]
  },
  {
   "cell_type": "code",
   "execution_count": 243,
   "id": "9c8ddb06",
   "metadata": {},
   "outputs": [
    {
     "data": {
      "text/plain": [
       "score        0.961696\n",
       "precision    0.966087\n",
       "recal        0.930159\n",
       "f1           0.947073\n",
       "AUC          0.955126\n",
       "dtype: float64"
      ]
     },
     "execution_count": 243,
     "metadata": {},
     "output_type": "execute_result"
    }
   ],
   "source": [
    "semi_supervised_df_train.mean()"
   ]
  },
  {
   "cell_type": "code",
   "execution_count": 244,
   "id": "225cea04",
   "metadata": {},
   "outputs": [
    {
     "data": {
      "text/plain": [
       "score        0.538608\n",
       "precision    0.379042\n",
       "recal        0.368235\n",
       "f1           0.373503\n",
       "AUC          0.504235\n",
       "dtype: float64"
      ]
     },
     "execution_count": 244,
     "metadata": {},
     "output_type": "execute_result"
    }
   ],
   "source": [
    "semi_supervised_df_test.mean()"
   ]
  },
  {
   "cell_type": "code",
   "execution_count": 245,
   "id": "05ef00d9",
   "metadata": {},
   "outputs": [
    {
     "data": {
      "text/plain": [
       "array([[186,  99],\n",
       "       [108,  62]])"
      ]
     },
     "execution_count": 245,
     "metadata": {},
     "output_type": "execute_result"
    }
   ],
   "source": [
    "# Train Confusion Matrix\n",
    "confusion_matrix(y_train, y_pred_semi_train)"
   ]
  },
  {
   "cell_type": "code",
   "execution_count": 246,
   "id": "d0e47443",
   "metadata": {},
   "outputs": [
    {
     "data": {
      "text/plain": [
       "array([[71,  1],\n",
       "       [ 4, 38]])"
      ]
     },
     "execution_count": 246,
     "metadata": {},
     "output_type": "execute_result"
    }
   ],
   "source": [
    "# Test Confusion Matrix\n",
    "confusion_matrix(y_test, y_pred_semi)"
   ]
  },
  {
   "cell_type": "code",
   "execution_count": 247,
   "id": "0c18d971",
   "metadata": {},
   "outputs": [
    {
     "data": {
      "image/png": "[encoded data removed]",
      "text/plain": [
       "<Figure size 432x288 with 1 Axes>"
      ]
     },
     "metadata": {
      "needs_background": "light"
     },
     "output_type": "display_data"
    }
   ],
   "source": [
    "# ROC for train\n",
    "plt.plot(fpr_semi_train, tpr_semi_train)\n",
    "plt.ylabel('True Positive Rate')\n",
    "plt.xlabel('False Positive Rate')\n",
    "plt.show()"
   ]
  },
  {
   "cell_type": "code",
   "execution_count": 248,
   "id": "981ceb28",
   "metadata": {},
   "outputs": [
    {
     "data": {
      "image/png": "[encoded data removed]",
      "text/plain": [
       "<Figure size 432x288 with 1 Axes>"
      ]
     },
     "metadata": {
      "needs_background": "light"
     },
     "output_type": "display_data"
    }
   ],
   "source": [
    "# ROC for test\n",
    "plt.plot( fpr_semi, tpr_semi)\n",
    "plt.ylabel('True Positive Rate')\n",
    "plt.xlabel('False Positive Rate')\n",
    "plt.show()"
   ]
  },
  {
   "cell_type": "code",
   "execution_count": 21,
   "id": "a27aa232",
   "metadata": {},
   "outputs": [],
   "source": [
    "# Unsupervised Learning\n",
    "unsupervised_df_train = pd.DataFrame(columns = ['score', 'precision', 'recal', 'f1', 'AUC'])\n",
    "unsupervised_df_test = pd.DataFrame(columns = ['score', 'precision', 'recal', 'f1', 'AUC'])\n",
    "for m in range(1,31):\n",
    "    # Spliting the data\n",
    "    X_train,X_test,y_train,y_test = train_test_split(X, y ,train_size=0.8, stratify=y)\n",
    "    X_train_km = X_train.reset_index()\n",
    "    X_train_km = X_train_km.drop(['index'], axis = 1)\n",
    "    y_train_km = y_train.reset_index().drop(['index'], axis = 1)\n",
    "    y_test_km = y_test.reset_index().drop(['index'], axis = 1)\n",
    "    \n",
    "    # Run the model\n",
    "    kmeans = KMeans(n_clusters = 2, init = 'random', n_init = 100).fit(X_train_km)\n",
    "    km_labels = kmeans.predict(X_train_km).tolist()\n",
    "    km_labels_test = kmeans.predict(X_test).tolist()\n",
    "    \n",
    "    # predict the result\n",
    "    d = kmeans.transform(X_train_km)[:, 0]\n",
    "    ind = np.argsort(d)[::][:30]\n",
    "    x = ind.tolist()\n",
    "    close_y = y_train_km.loc[x, :]\n",
    "    label = close_y['Diagnosis'].mode()[0]\n",
    "    \n",
    "    d1 = kmeans.transform(X_train_km)[:, 1]\n",
    "    ind1 = np.argsort(d1)[::][:30]\n",
    "    x1 = ind1.tolist()\n",
    "    close_y1 = y_train_km.loc[x1, :]\n",
    "    label1 = close_y1['Diagnosis'].mode()[0]\n",
    "    \n",
    "    for i in range(len(km_labels)):\n",
    "        if(km_labels[i] == 0):\n",
    "            km_labels[i] = label\n",
    "        else:\n",
    "            km_labels[i] = label1\n",
    "    \n",
    "    for i in range(len(km_labels_test)):\n",
    "        if(km_labels_test[i] == 0):\n",
    "            km_labels_test[i] = label\n",
    "        else:\n",
    "            km_labels_test[i] = label1 \n",
    "    \n",
    "    # Train Stat\n",
    "    score_un = accuracy_score(y_train_km['Diagnosis'].tolist(), km_labels)\n",
    "    precision_un = precision_score(y_train_km['Diagnosis'].tolist(), km_labels, average='binary')\n",
    "    recal_un = recall_score(y_train_km['Diagnosis'].tolist(), km_labels, average='binary')\n",
    "    f1_un = f1_score(y_train_km['Diagnosis'].tolist(), km_labels, average='binary')\n",
    "    fpr_un, tpr_un, thresholds = metrics.roc_curve(y_train_km['Diagnosis'].tolist(), km_labels)\n",
    "    auc_un = metrics.auc(fpr_un, tpr_un)\n",
    "    length = len(unsupervised_df_train)\n",
    "    #print(score_un, precision_un, recal_un, f1_un, auc_un)\n",
    "    unsupervised_df_train.loc[length] = [score_un, precision_un, recal_un, f1_un, auc_un]\n",
    "    \n",
    "    # Test Stat\n",
    "    score_un_test = accuracy_score(y_test_km['Diagnosis'].tolist(), km_labels_test)\n",
    "    precision_un_test = precision_score(y_test_km['Diagnosis'].tolist(), km_labels_test, average='binary')\n",
    "    recal_un_test = recall_score(y_test_km['Diagnosis'].tolist(), km_labels_test, average='binary')\n",
    "    f1_un_test = f1_score(y_test_km['Diagnosis'].tolist(), km_labels_test, average='binary')\n",
    "    fpr_un_test, tpr_un_test, thresholds_test = metrics.roc_curve(y_test_km['Diagnosis'].tolist(), km_labels_test)\n",
    "    auc_un_test = metrics.auc(fpr_un_test, tpr_un_test)\n",
    "    length = len(unsupervised_df_test)\n",
    "    unsupervised_df_test.loc[length] = [score_un_test, precision_un_test, recal_un_test, f1_un_test, auc_un_test]\n"
   ]
  },
  {
   "cell_type": "code",
   "execution_count": 43,
   "id": "689caa42",
   "metadata": {},
   "outputs": [
    {
     "data": {
      "text/plain": [
       "score        0.851209\n",
       "precision    0.993528\n",
       "recal        0.605686\n",
       "f1           0.752381\n",
       "AUC          0.801674\n",
       "dtype: float64"
      ]
     },
     "execution_count": 43,
     "metadata": {},
     "output_type": "execute_result"
    }
   ],
   "source": [
    "unsupervised_df_train.mean()"
   ]
  },
  {
   "cell_type": "code",
   "execution_count": 60,
   "id": "b4b8d61a",
   "metadata": {},
   "outputs": [
    {
     "data": {
      "text/plain": [
       "score        0.852924\n",
       "precision    0.986808\n",
       "recal        0.608730\n",
       "f1           0.750992\n",
       "AUC          0.802050\n",
       "dtype: float64"
      ]
     },
     "execution_count": 60,
     "metadata": {},
     "output_type": "execute_result"
    }
   ],
   "source": [
    "unsupervised_df_test.mean()"
   ]
  },
  {
   "cell_type": "code",
   "execution_count": 218,
   "id": "c50aea55",
   "metadata": {},
   "outputs": [
    {
     "data": {
      "text/plain": [
       "array([[217,  68],\n",
       "       [136,  34]])"
      ]
     },
     "execution_count": 218,
     "metadata": {},
     "output_type": "execute_result"
    }
   ],
   "source": [
    "# Train Confusion Matrix\n",
    "confusion_matrix(y_train_km['Diagnosis'].tolist(), km_labels)"
   ]
  },
  {
   "cell_type": "code",
   "execution_count": 219,
   "id": "e14b88d4",
   "metadata": {},
   "outputs": [
    {
     "data": {
      "text/plain": [
       "array([[56, 16],\n",
       "       [29, 13]])"
      ]
     },
     "execution_count": 219,
     "metadata": {},
     "output_type": "execute_result"
    }
   ],
   "source": [
    "# Test Confusion Matrix\n",
    "confusion_matrix(y_test_km['Diagnosis'].tolist(), km_labels_test)"
   ]
  },
  {
   "cell_type": "code",
   "execution_count": 225,
   "id": "15eede0a",
   "metadata": {},
   "outputs": [
    {
     "data": {
      "text/plain": [
       "<sklearn.metrics._plot.roc_curve.RocCurveDisplay at 0x1235d4310>"
      ]
     },
     "execution_count": 225,
     "metadata": {},
     "output_type": "execute_result"
    },
    {
     "data": {
      "image/png": "[encoded data removed]",
      "text/plain": [
       "<Figure size 432x288 with 1 Axes>"
      ]
     },
     "metadata": {
      "needs_background": "light"
     },
     "output_type": "display_data"
    }
   ],
   "source": [
    "# ROC for train\n",
    "roc_auc = metrics.auc(fpr_un, tpr_un)\n",
    "display = metrics.RocCurveDisplay(fpr=fpr_un, tpr=tpr_un, roc_auc=roc_auc,\n",
    "                                   estimator_name='example estimator')\n",
    "display.plot()"
   ]
  },
  {
   "cell_type": "code",
   "execution_count": 226,
   "id": "fbc05c25",
   "metadata": {},
   "outputs": [
    {
     "data": {
      "text/plain": [
       "<sklearn.metrics._plot.roc_curve.RocCurveDisplay at 0x123863c10>"
      ]
     },
     "execution_count": 226,
     "metadata": {},
     "output_type": "execute_result"
    },
    {
     "data": {
      "image/png": "[encoded data removed]",
      "text/plain": [
       "<Figure size 432x288 with 1 Axes>"
      ]
     },
     "metadata": {
      "needs_background": "light"
     },
     "output_type": "display_data"
    }
   ],
   "source": [
    "# ROC for test\n",
    "roc_auc = metrics.auc(fpr_un_test, tpr_un_test)\n",
    "display = metrics.RocCurveDisplay(fpr=fpr_un_test, tpr=tpr_un_test, roc_auc=roc_auc,\n",
    "                                   estimator_name='example estimator')\n",
    "display.plot()"
   ]
  },
  {
   "cell_type": "code",
   "execution_count": 70,
   "id": "2907aa4f",
   "metadata": {},
   "outputs": [],
   "source": [
    "# Spectral Clustering\n",
    "spectral_df_train = pd.DataFrame(columns = ['score', 'precision', 'recal', 'f1', 'AUC'])\n",
    "spectral_df_test = pd.DataFrame(columns = ['score', 'precision', 'recal', 'f1', 'AUC'])\n",
    "for m in range(1,31):\n",
    "    # Spliting the data\n",
    "    X_train,X_test,y_train,y_test = train_test_split(X, y ,train_size=0.8, stratify=y)\n",
    "    scaler = MinMaxScaler()\n",
    "    X_fit = scaler.fit(X_train)\n",
    "    X_train_max = X_fit.transform(X_train)\n",
    "    X_test_max = X_fit.transform(X_test)\n",
    "    X_train_new = pd.DataFrame(X_train_max, columns = X_train.columns)\n",
    "    X_test_new = pd.DataFrame(X_test_max, columns = X_train.columns)\n",
    "    \n",
    "    X_train_km = X_train_new.reset_index()\n",
    "    X_train_km = X_train_km.drop(['index'], axis = 1)\n",
    "    y_train_km = y_train.reset_index().drop(['index'], axis = 1)\n",
    "    y_test_km = y_test.reset_index().drop(['index'], axis = 1)\n",
    "    \n",
    "    # Run the model\n",
    "    clustering = SpectralClustering(n_clusters = 2, gamma = 1.0, affinity = 'rbf', random_state = m * 5).fit(X_train_km)\n",
    "    clustering_labels = clustering.labels_.tolist()\n",
    "    clustering_labels_test = clustering.fit_predict(X_test_new)\n",
    "    index_0 = []\n",
    "    index_1 = []\n",
    "    for i in range(0, len(clustering_labels)):\n",
    "        if clustering_labels[i] == 0:\n",
    "            index_0.append(i)\n",
    "        else:\n",
    "            index_1.append(i)\n",
    "    y0 = y_train_km.loc[index_0, :]\n",
    "    y1 = y_train_km.loc[index_1, :]\n",
    "    label0 = y0['Diagnosis'].mode()[0]\n",
    "    label1 = y1['Diagnosis'].mode()[0]\n",
    "    \n",
    "    for i in range(len(clustering_labels)):\n",
    "        if(clustering_labels[i] == 0):\n",
    "            clustering_labels[i] = label0\n",
    "        else:\n",
    "            clustering_labels[i] = label1\n",
    "    \n",
    "    for i in range(len(clustering_labels_test)):\n",
    "        if(clustering_labels_test[i] == 0):\n",
    "            clustering_labels_test[i] = label0\n",
    "        else:\n",
    "            clustering_labels_test[i] = label1\n",
    "    \n",
    "    # Train Stat\n",
    "    score_spe = accuracy_score(y_train_km['Diagnosis'].tolist(), clustering_labels)\n",
    "    precision_spe = precision_score(y_train_km['Diagnosis'].tolist(), clustering_labels, average='binary')\n",
    "    recal_spe = recall_score(y_train_km['Diagnosis'].tolist(), clustering_labels, average='binary')\n",
    "    f1_spe = f1_score(y_train_km['Diagnosis'].tolist(), clustering_labels, average='binary')\n",
    "    fpr_spe, tpr_spe, thresholds = metrics.roc_curve(y_train_km['Diagnosis'].tolist(), clustering_labels)\n",
    "    auc_spe = metrics.auc(fpr_spe, tpr_spe)\n",
    "    length = len(spectral_df_train)\n",
    "    spectral_df_train.loc[length] = [score_spe, precision_spe, recal_spe, f1_spe, auc_spe]\n",
    "    \n",
    "    # Test Stat\n",
    "    score_spe_test = accuracy_score(y_test_km['Diagnosis'].tolist(), clustering_labels_test)\n",
    "    precision_spe_test = precision_score(y_test_km['Diagnosis'].tolist(), clustering_labels_test, average='binary')\n",
    "    recal_spe_test = recall_score(y_test_km['Diagnosis'].tolist(), clustering_labels_test, average='binary')\n",
    "    f1_spe_test = f1_score(y_test_km['Diagnosis'].tolist(), clustering_labels_test, average='binary')\n",
    "    fpr_spe_test, tpr_spe_test, thresholds = metrics.roc_curve(y_test_km['Diagnosis'].tolist(),clustering_labels_test)\n",
    "    auc_spe_test = metrics.auc(fpr_spe_test, tpr_spe_test)\n",
    "    length = len(spectral_df_test)\n",
    "    spectral_df_test.loc[length] = [score_spe_test, precision_spe_test, recal_spe_test, f1_spe_test, auc_spe_test]\n",
    "    "
   ]
  },
  {
   "cell_type": "code",
   "execution_count": 73,
   "id": "44d732b9",
   "metadata": {},
   "outputs": [
    {
     "data": {
      "text/plain": [
       "score        0.858315\n",
       "precision    0.983210\n",
       "recal        0.631765\n",
       "f1           0.768426\n",
       "AUC          0.812607\n",
       "dtype: float64"
      ]
     },
     "execution_count": 73,
     "metadata": {},
     "output_type": "execute_result"
    }
   ],
   "source": [
    "spectral_df_train.mean()"
   ]
  },
  {
   "cell_type": "code",
   "execution_count": 74,
   "id": "7f628384",
   "metadata": {},
   "outputs": [
    {
     "data": {
      "text/plain": [
       "score        0.646199\n",
       "precision    0.773558\n",
       "recal        0.500794\n",
       "f1           0.547262\n",
       "AUC          0.615906\n",
       "dtype: float64"
      ]
     },
     "execution_count": 74,
     "metadata": {},
     "output_type": "execute_result"
    }
   ],
   "source": [
    "spectral_df_test.mean()"
   ]
  },
  {
   "cell_type": "code",
   "execution_count": 214,
   "id": "a1a5edba",
   "metadata": {},
   "outputs": [
    {
     "data": {
      "text/plain": [
       "array([[282,   3],\n",
       "       [ 59, 111]])"
      ]
     },
     "execution_count": 214,
     "metadata": {},
     "output_type": "execute_result"
    }
   ],
   "source": [
    "# Train Confusion Matrix\n",
    "confusion_matrix(y_train_km['Diagnosis'].tolist(), clustering_labels)"
   ]
  },
  {
   "cell_type": "code",
   "execution_count": 215,
   "id": "7b1abfce",
   "metadata": {},
   "outputs": [
    {
     "data": {
      "text/plain": [
       "array([[72,  0],\n",
       "       [22, 20]])"
      ]
     },
     "execution_count": 215,
     "metadata": {},
     "output_type": "execute_result"
    }
   ],
   "source": [
    "# Train Confusion Matrix\n",
    "confusion_matrix(y_test_km['Diagnosis'].tolist(), clustering_labels_test)"
   ]
  },
  {
   "cell_type": "code",
   "execution_count": 216,
   "id": "867b38ae",
   "metadata": {},
   "outputs": [
    {
     "data": {
      "image/png": "[encoded data removed]",
      "text/plain": [
       "<Figure size 432x288 with 1 Axes>"
      ]
     },
     "metadata": {
      "needs_background": "light"
     },
     "output_type": "display_data"
    }
   ],
   "source": [
    "# ROC for train\n",
    "plt.plot(fpr_spe, tpr_spe)\n",
    "plt.ylabel('True Positive Rate')\n",
    "plt.xlabel('False Positive Rate')\n",
    "plt.show()"
   ]
  },
  {
   "cell_type": "code",
   "execution_count": 217,
   "id": "10573d15",
   "metadata": {},
   "outputs": [
    {
     "data": {
      "image/png": "[encoded data removed]",
      "text/plain": [
       "<Figure size 432x288 with 1 Axes>"
      ]
     },
     "metadata": {
      "needs_background": "light"
     },
     "output_type": "display_data"
    }
   ],
   "source": [
    "# ROC for test\n",
    "plt.plot(fpr_spe_test, tpr_spe_test)\n",
    "plt.ylabel('True Positive Rate')\n",
    "plt.xlabel('False Positive Rate')\n",
    "plt.show()"
   ]
  },
  {
   "cell_type": "code",
   "execution_count": 86,
   "id": "45cd4340",
   "metadata": {},
   "outputs": [],
   "source": [
    "bank_names = ['variance', 'skewness', 'curtosis', 'entropy', 'class']\n",
    "df_bank = pd.read_csv('../data/data_banknote_authentication.txt', names = bank_names)\n",
    "y_bank = df_bank['class']\n",
    "X_bank = df_bank.iloc[:, :-1]\n",
    "train_bank, test_bank = train_test_split(df_bank ,test_size=472)"
   ]
  },
  {
   "cell_type": "code",
   "execution_count": 196,
   "id": "74212a3c",
   "metadata": {},
   "outputs": [],
   "source": [
    "# Monte-Carlo simulation\n",
    "passive_scores = []\n",
    "active_scores = []\n",
    "for m in range(1,51):\n",
    "    \n",
    "    # Passive Learning\n",
    "    train_bank_c = train_bank.copy()\n",
    "    train_d = pd.DataFrame(columns = bank_names)\n",
    "    test_scores = []\n",
    "    while train_bank_c.empty != True:\n",
    "\n",
    "        train_select = train_bank_c.sample(n = 10, replace = False)\n",
    "        train_d = pd.concat([train_select, train_d])\n",
    "        idxs = train_select.index.tolist()\n",
    "        train_bank_c = train_bank_c.drop(idxs)\n",
    "        X = train_d.iloc[:, :-1]\n",
    "        y = train_d['class']\n",
    "        y = y.astype('int')\n",
    "\n",
    "        tuned_parameters = [{'C': np.logspace(-3, 6, num = 10)}]\n",
    "        svm = LinearSVC(penalty = 'l1', dual = False)\n",
    "        grid = GridSearchCV(svm, tuned_parameters, cv=5, scoring='accuracy')\n",
    "        grid.fit(X, y)\n",
    "        best_c = grid.best_params_['C']\n",
    "\n",
    "\n",
    "        svc_linear = LinearSVC(penalty = 'l1',C = best_c, dual = False)\n",
    "        svc_linear.fit(X, y)\n",
    "        pred_y = svc_linear.predict(test_bank.iloc[:, :-1])\n",
    "        test_y = test_bank['class'].to_numpy()\n",
    "        test_score = accuracy_score(test_y, pred_y)\n",
    "        test_scores.append(test_score)\n",
    "    passive_scores.append(test_scores)\n",
    "    \n",
    "    # Active Learning\n",
    "    train_bank_d = train_bank.copy()\n",
    "    train_bank_d = train_bank_d.reset_index().drop(['index'], axis = 1)\n",
    "    train_e = pd.DataFrame(columns = bank_names)\n",
    "    train_Select = train_bank_d.sample(n = 10, replace = False)\n",
    "    idxs_e = train_Select.index.tolist()\n",
    "\n",
    "    test_scores_active = []\n",
    "    for i in range(1,91):\n",
    "    \n",
    "        train_e = pd.concat([train_Select, train_e])\n",
    "        train_bank_d = train_bank_d.drop(idxs_e)\n",
    "        train_bank_d = train_bank_d.reset_index().drop(['index'], axis = 1)\n",
    "        X_active = train_e.iloc[:, :-1]\n",
    "        y_active = train_e['class']\n",
    "        y_active = y_active.astype('int')\n",
    "\n",
    "        tuned_parameters = [{'C': np.logspace(-3, 6, num = 10)}]\n",
    "        svm = LinearSVC(penalty = 'l1', dual = False)\n",
    "        grid = GridSearchCV(svm, tuned_parameters, cv=5, scoring='accuracy')\n",
    "        grid.fit(X_active, y_active)\n",
    "        best_c = grid.best_params_['C']\n",
    "\n",
    "        svc_linear = LinearSVC(penalty = 'l1',C = best_c, dual = False)\n",
    "        svc_linear.fit(X_active, y_active)\n",
    "        distance = abs(svc_linear.decision_function(train_bank_d.iloc[:, :-1])).tolist()\n",
    "        nlargests = nlargest(10, distance)\n",
    "        idxs_e = []\n",
    "        for i in nlargests:\n",
    "            idxs_e.append(distance.index(i))\n",
    "        train_Select = train_bank_d.loc[idxs_e, :]\n",
    "    \n",
    "        svc_linear = LinearSVC(penalty = 'l1',C = best_c, dual = False)\n",
    "        svc_linear.fit(X_active, y_active)\n",
    "        pred_y = svc_linear.predict(test_bank.iloc[:, :-1])\n",
    "        test_y = test_bank['class'].to_numpy()\n",
    "        test_score = accuracy_score(test_y, pred_y)\n",
    "        test_scores_active.append(test_score)\n",
    "    active_scores.append(test_scores_active)\n",
    "    \n",
    "# Final Calculation :/\n",
    "passive_average = [sum(sub_list) / len(sub_list) for sub_list in zip(*passive_scores)]\n",
    "active_average = [sum(sub_list) / len(sub_list) for sub_list in zip(*active_scores)]\n"
   ]
  },
  {
   "cell_type": "code",
   "execution_count": 203,
   "id": "7b9b3992",
   "metadata": {},
   "outputs": [
    {
     "data": {
      "text/plain": [
       "90"
      ]
     },
     "execution_count": 203,
     "metadata": {},
     "output_type": "execute_result"
    }
   ],
   "source": [
    "len(passive_average)"
   ]
  },
  {
   "cell_type": "code",
   "execution_count": 213,
   "id": "267fc27d",
   "metadata": {},
   "outputs": [
    {
     "data": {
      "image/png": "[encoded data removed]",
      "text/plain": [
       "<Figure size 432x288 with 1 Axes>"
      ]
     },
     "metadata": {
      "needs_background": "light"
     },
     "output_type": "display_data"
    }
   ],
   "source": [
    "plt.rcParams[\"figure.autolayout\"] = True\n",
    "plt.plot(range(1,91), passive_average, label = \"passive_average\")\n",
    "plt.plot(range(1,91), active_average, label = \"active__average\")\n",
    "leg = plt.legend(loc='upper right')"
   ]
  },
  {
   "cell_type": "code",
   "execution_count": null,
   "id": "7d45424f",
   "metadata": {},
   "outputs": [],
   "source": []
  }
 ],
 "metadata": {
  "kernelspec": {
   "display_name": "Python 3 (ipykernel)",
   "language": "python",
   "name": "python3"
  },
  "language_info": {
   "codemirror_mode": {
    "name": "ipython",
    "version": 3
   },
   "file_extension": ".py",
   "mimetype": "text/x-python",
   "name": "python",
   "nbconvert_exporter": "python",
   "pygments_lexer": "ipython3",
   "version": "3.7.4"
  }
 },
 "nbformat": 4,
 "nbformat_minor": 5
}
