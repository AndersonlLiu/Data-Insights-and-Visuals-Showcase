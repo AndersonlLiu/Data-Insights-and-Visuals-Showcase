{
 "cells": [
  {
   "cell_type": "code",
   "execution_count": null,
   "id": "ce372eb5",
   "metadata": {},
   "outputs": [],
   "source": [
    "# News\n",
    "\n",
    "from bs4 import BeautifulSoup\n",
    "from urllib.request import urlopen\n",
    "from urllib.request import Request\n",
    "finviz_url = 'https://finviz.com/quote.ashx?t=AAPL'\n",
    "news_tables = {}\n",
    "req = Request(url=finviz_url,headers={'user-agent': 'my-app/0.0.1'}) \n",
    "resp = urlopen(req)    \n",
    "html = BeautifulSoup(resp, features=\"lxml\")\n",
    "news_table = html.find(id='news-table')\n",
    "news_tables['AAPL'] = news_table\n",
    "\n",
    "df = news_tables['AAPL']\n",
    "df_tr = df.findAll('tr')\n",
    "print ('\\n')\n",
    "print ('Recent News Headlines for {}: '.format('AAPL'))\n",
    "for i, table_row in enumerate(df_tr):\n",
    "    a_text = table_row.a.text\n",
    "    td_text = table_row.td.text\n",
    "    td_text = td_text.strip()\n",
    "    print(a_text,'(',td_text,')')\n",
    "    \n",
    "parsed_news = []\n",
    "for file_name, news_table in news_tables.items():\n",
    "    for x in news_table.findAll('tr'):\n",
    "        text = x.a.get_text() \n",
    "        date_scrape = x.td.text.split()\n",
    "\n",
    "        if len(date_scrape) == 1:\n",
    "            time = date_scrape[0]\n",
    "            \n",
    "        else:\n",
    "            date = date_scrape[0]\n",
    "            time = date_scrape[1]\n",
    "\n",
    "        ticker = file_name.split('_')[0]\n",
    "        \n",
    "        parsed_news.append([ticker, date, time, text])\n",
    "        \n",
    "from datetime import datetime\n",
    "news = pd.DataFrame(parsed_news, columns = ['Stock', 'Date', 'Time', 'News Headlines'])\n",
    "news['Date'] = pd.to_datetime(news['Date'], format='%b-%d-%y')\n",
    "\n",
    "filepath = Path('data/News.csv')  \n",
    "filepath.parent.mkdir(parents=True, exist_ok=True)  \n",
    "news.to_csv(filepath) "
   ]
  }
 ],
 "metadata": {
  "kernelspec": {
   "display_name": "Python 3 (ipykernel)",
   "language": "python",
   "name": "python3"
  },
  "language_info": {
   "codemirror_mode": {
    "name": "ipython",
    "version": 3
   },
   "file_extension": ".py",
   "mimetype": "text/x-python",
   "name": "python",
   "nbconvert_exporter": "python",
   "pygments_lexer": "ipython3",
   "version": "3.7.4"
  }
 },
 "nbformat": 4,
 "nbformat_minor": 5
}
