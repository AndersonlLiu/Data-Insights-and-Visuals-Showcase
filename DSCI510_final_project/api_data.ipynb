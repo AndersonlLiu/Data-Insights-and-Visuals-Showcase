{
 "cells": [
  {
   "cell_type": "code",
   "execution_count": 7,
   "id": "36291a87",
   "metadata": {},
   "outputs": [],
   "source": [
    "# Stock historical price\n",
    "import requests\n",
    "response = requests.get('https://api.stockdata.org/v1/data/eod?symbols=AAPL&api_token=jd0qoX9VUT5lMG5onfd3RBXzWEhXVKPwNz1Rheao')\n"
   ]
  },
  {
   "cell_type": "code",
   "execution_count": 8,
   "id": "cec7662b",
   "metadata": {},
   "outputs": [
    {
     "data": {
      "text/html": [
       "<div>\n",
       "<style scoped>\n",
       "    .dataframe tbody tr th:only-of-type {\n",
       "        vertical-align: middle;\n",
       "    }\n",
       "\n",
       "    .dataframe tbody tr th {\n",
       "        vertical-align: top;\n",
       "    }\n",
       "\n",
       "    .dataframe thead th {\n",
       "        text-align: right;\n",
       "    }\n",
       "</style>\n",
       "<table border=\"1\" class=\"dataframe\">\n",
       "  <thead>\n",
       "    <tr style=\"text-align: right;\">\n",
       "      <th></th>\n",
       "      <th>date</th>\n",
       "      <th>close_price</th>\n",
       "    </tr>\n",
       "  </thead>\n",
       "  <tbody>\n",
       "    <tr>\n",
       "      <th>0</th>\n",
       "      <td>2022-04-29T16:00:00.000000Z</td>\n",
       "      <td>157.65</td>\n",
       "    </tr>\n",
       "    <tr>\n",
       "      <th>1</th>\n",
       "      <td>2022-04-28T16:00:00.000000Z</td>\n",
       "      <td>163.64</td>\n",
       "    </tr>\n",
       "    <tr>\n",
       "      <th>2</th>\n",
       "      <td>2022-04-27T16:00:00.000000Z</td>\n",
       "      <td>156.57</td>\n",
       "    </tr>\n",
       "    <tr>\n",
       "      <th>3</th>\n",
       "      <td>2022-04-26T16:00:00.000000Z</td>\n",
       "      <td>156.80</td>\n",
       "    </tr>\n",
       "    <tr>\n",
       "      <th>4</th>\n",
       "      <td>2022-04-25T16:00:00.000000Z</td>\n",
       "      <td>162.88</td>\n",
       "    </tr>\n",
       "    <tr>\n",
       "      <th>...</th>\n",
       "      <td>...</td>\n",
       "      <td>...</td>\n",
       "    </tr>\n",
       "    <tr>\n",
       "      <th>247</th>\n",
       "      <td>2021-05-07T16:00:00.000000Z</td>\n",
       "      <td>130.21</td>\n",
       "    </tr>\n",
       "    <tr>\n",
       "      <th>248</th>\n",
       "      <td>2021-05-06T16:00:00.000000Z</td>\n",
       "      <td>129.74</td>\n",
       "    </tr>\n",
       "    <tr>\n",
       "      <th>249</th>\n",
       "      <td>2021-05-05T16:00:00.000000Z</td>\n",
       "      <td>128.10</td>\n",
       "    </tr>\n",
       "    <tr>\n",
       "      <th>250</th>\n",
       "      <td>2021-05-04T16:00:00.000000Z</td>\n",
       "      <td>127.85</td>\n",
       "    </tr>\n",
       "    <tr>\n",
       "      <th>251</th>\n",
       "      <td>2021-05-03T16:00:00.000000Z</td>\n",
       "      <td>132.54</td>\n",
       "    </tr>\n",
       "  </tbody>\n",
       "</table>\n",
       "<p>252 rows × 2 columns</p>\n",
       "</div>"
      ],
      "text/plain": [
       "                            date  close_price\n",
       "0    2022-04-29T16:00:00.000000Z       157.65\n",
       "1    2022-04-28T16:00:00.000000Z       163.64\n",
       "2    2022-04-27T16:00:00.000000Z       156.57\n",
       "3    2022-04-26T16:00:00.000000Z       156.80\n",
       "4    2022-04-25T16:00:00.000000Z       162.88\n",
       "..                           ...          ...\n",
       "247  2021-05-07T16:00:00.000000Z       130.21\n",
       "248  2021-05-06T16:00:00.000000Z       129.74\n",
       "249  2021-05-05T16:00:00.000000Z       128.10\n",
       "250  2021-05-04T16:00:00.000000Z       127.85\n",
       "251  2021-05-03T16:00:00.000000Z       132.54\n",
       "\n",
       "[252 rows x 2 columns]"
      ]
     },
     "execution_count": 8,
     "metadata": {},
     "output_type": "execute_result"
    }
   ],
   "source": [
    "import pandas as pd\n",
    "js = response.json()\n",
    "date = js.get('data')\n",
    "stock_price = pd.DataFrame(columns = ['date', 'close_price'])\n",
    "for i in date:\n",
    "    stock_price_length = len(stock_price)\n",
    "    stock_price.loc[stock_price_length] = [i['date'], i['close']]\n",
    "stock_price"
   ]
  },
  {
   "cell_type": "code",
   "execution_count": 9,
   "id": "34436c55",
   "metadata": {},
   "outputs": [],
   "source": [
    "import warnings\n",
    "warnings.filterwarnings(\"ignore\")\n",
    "stock_price['date'] = stock_price['date'].str.replace('T16:00:00.000000Z', '')\n",
    "stock_price = stock_price.sort_values(by=['date']).reset_index()\n",
    "stock_price = stock_price.drop(['index'], axis = 1)\n",
    "stock_price['pct_change'] = stock_price['close_price'].pct_change()\n",
    "stock_price = stock_price.drop(0)"
   ]
  },
  {
   "cell_type": "code",
   "execution_count": 6,
   "id": "85da7304",
   "metadata": {},
   "outputs": [],
   "source": [
    "from pathlib import Path  \n",
    "filepath = Path('DSCI510_final_project/data/Stock_Price.csv')  \n",
    "filepath.parent.mkdir(parents=True, exist_ok=True)  \n",
    "stock_price.to_csv(filepath)  "
   ]
  },
  {
   "cell_type": "code",
   "execution_count": 7,
   "id": "a6ea3a73",
   "metadata": {},
   "outputs": [],
   "source": [
    "# 10 year treasuty rate\n",
    "import requests\n",
    "from bs4 import BeautifulSoup"
   ]
  },
  {
   "cell_type": "code",
   "execution_count": 8,
   "id": "5b885031",
   "metadata": {},
   "outputs": [],
   "source": [
    "is_link = 'https://ycharts.com/indicators/10_year_treasury_rate'\n",
    "response = requests.get(is_link)\n",
    "soup = BeautifulSoup(response.content, 'html.parser')"
   ]
  },
  {
   "cell_type": "code",
   "execution_count": 9,
   "id": "47e474ff",
   "metadata": {},
   "outputs": [],
   "source": [
    "response_treasury = requests.get('https://data.nasdaq.com/api/v3/datasets/USTREASURY/YIELD.json?api_key=m4QDcyVZJxsukKV23FsE')\n"
   ]
  },
  {
   "cell_type": "code",
   "execution_count": 10,
   "id": "00693054",
   "metadata": {},
   "outputs": [
    {
     "data": {
      "text/html": [
       "<div>\n",
       "<style scoped>\n",
       "    .dataframe tbody tr th:only-of-type {\n",
       "        vertical-align: middle;\n",
       "    }\n",
       "\n",
       "    .dataframe tbody tr th {\n",
       "        vertical-align: top;\n",
       "    }\n",
       "\n",
       "    .dataframe thead th {\n",
       "        text-align: right;\n",
       "    }\n",
       "</style>\n",
       "<table border=\"1\" class=\"dataframe\">\n",
       "  <thead>\n",
       "    <tr style=\"text-align: right;\">\n",
       "      <th></th>\n",
       "      <th>date</th>\n",
       "      <th>close_price</th>\n",
       "    </tr>\n",
       "  </thead>\n",
       "  <tbody>\n",
       "    <tr>\n",
       "      <th>0</th>\n",
       "      <td>2022-02-04</td>\n",
       "      <td>1.93</td>\n",
       "    </tr>\n",
       "    <tr>\n",
       "      <th>1</th>\n",
       "      <td>2022-02-03</td>\n",
       "      <td>1.82</td>\n",
       "    </tr>\n",
       "    <tr>\n",
       "      <th>2</th>\n",
       "      <td>2022-02-02</td>\n",
       "      <td>1.78</td>\n",
       "    </tr>\n",
       "    <tr>\n",
       "      <th>3</th>\n",
       "      <td>2022-02-01</td>\n",
       "      <td>1.81</td>\n",
       "    </tr>\n",
       "    <tr>\n",
       "      <th>4</th>\n",
       "      <td>2022-01-31</td>\n",
       "      <td>1.79</td>\n",
       "    </tr>\n",
       "    <tr>\n",
       "      <th>...</th>\n",
       "      <td>...</td>\n",
       "      <td>...</td>\n",
       "    </tr>\n",
       "    <tr>\n",
       "      <th>8027</th>\n",
       "      <td>1990-01-08</td>\n",
       "      <td>8.02</td>\n",
       "    </tr>\n",
       "    <tr>\n",
       "      <th>8028</th>\n",
       "      <td>1990-01-05</td>\n",
       "      <td>7.99</td>\n",
       "    </tr>\n",
       "    <tr>\n",
       "      <th>8029</th>\n",
       "      <td>1990-01-04</td>\n",
       "      <td>7.98</td>\n",
       "    </tr>\n",
       "    <tr>\n",
       "      <th>8030</th>\n",
       "      <td>1990-01-03</td>\n",
       "      <td>7.99</td>\n",
       "    </tr>\n",
       "    <tr>\n",
       "      <th>8031</th>\n",
       "      <td>1990-01-02</td>\n",
       "      <td>7.94</td>\n",
       "    </tr>\n",
       "  </tbody>\n",
       "</table>\n",
       "<p>8032 rows × 2 columns</p>\n",
       "</div>"
      ],
      "text/plain": [
       "            date  close_price\n",
       "0     2022-02-04         1.93\n",
       "1     2022-02-03         1.82\n",
       "2     2022-02-02         1.78\n",
       "3     2022-02-01         1.81\n",
       "4     2022-01-31         1.79\n",
       "...          ...          ...\n",
       "8027  1990-01-08         8.02\n",
       "8028  1990-01-05         7.99\n",
       "8029  1990-01-04         7.98\n",
       "8030  1990-01-03         7.99\n",
       "8031  1990-01-02         7.94\n",
       "\n",
       "[8032 rows x 2 columns]"
      ]
     },
     "execution_count": 10,
     "metadata": {},
     "output_type": "execute_result"
    }
   ],
   "source": [
    "t_js = response_treasury.json()\n",
    "t_data = t_js.get('dataset')['data']\n",
    "t_price = pd.DataFrame(columns = ['date', 'close_price'])\n",
    "for i in t_data:\n",
    "    length = len(t_price)\n",
    "    t_price.loc[length] = [i[0], i[10]]\n",
    "t_price"
   ]
  },
  {
   "cell_type": "code",
   "execution_count": 11,
   "id": "2c383811",
   "metadata": {},
   "outputs": [],
   "source": [
    "t_price = t_price[t_price['date'] > \"2020-02-20\"]\n",
    "t_price['pct_change'] = t_price['close_price'].pct_change()\n",
    "t_price = t_price.drop(0)"
   ]
  },
  {
   "cell_type": "code",
   "execution_count": 12,
   "id": "eeb5ed75",
   "metadata": {},
   "outputs": [
    {
     "data": {
      "text/html": [
       "<div>\n",
       "<style scoped>\n",
       "    .dataframe tbody tr th:only-of-type {\n",
       "        vertical-align: middle;\n",
       "    }\n",
       "\n",
       "    .dataframe tbody tr th {\n",
       "        vertical-align: top;\n",
       "    }\n",
       "\n",
       "    .dataframe thead th {\n",
       "        text-align: right;\n",
       "    }\n",
       "</style>\n",
       "<table border=\"1\" class=\"dataframe\">\n",
       "  <thead>\n",
       "    <tr style=\"text-align: right;\">\n",
       "      <th></th>\n",
       "      <th>date</th>\n",
       "      <th>close_price</th>\n",
       "      <th>pct_change</th>\n",
       "    </tr>\n",
       "  </thead>\n",
       "  <tbody>\n",
       "    <tr>\n",
       "      <th>1</th>\n",
       "      <td>2022-02-03</td>\n",
       "      <td>1.82</td>\n",
       "      <td>-0.056995</td>\n",
       "    </tr>\n",
       "    <tr>\n",
       "      <th>2</th>\n",
       "      <td>2022-02-02</td>\n",
       "      <td>1.78</td>\n",
       "      <td>-0.021978</td>\n",
       "    </tr>\n",
       "    <tr>\n",
       "      <th>3</th>\n",
       "      <td>2022-02-01</td>\n",
       "      <td>1.81</td>\n",
       "      <td>0.016854</td>\n",
       "    </tr>\n",
       "    <tr>\n",
       "      <th>4</th>\n",
       "      <td>2022-01-31</td>\n",
       "      <td>1.79</td>\n",
       "      <td>-0.011050</td>\n",
       "    </tr>\n",
       "    <tr>\n",
       "      <th>5</th>\n",
       "      <td>2022-01-28</td>\n",
       "      <td>1.78</td>\n",
       "      <td>-0.005587</td>\n",
       "    </tr>\n",
       "    <tr>\n",
       "      <th>...</th>\n",
       "      <td>...</td>\n",
       "      <td>...</td>\n",
       "      <td>...</td>\n",
       "    </tr>\n",
       "    <tr>\n",
       "      <th>487</th>\n",
       "      <td>2020-02-27</td>\n",
       "      <td>1.30</td>\n",
       "      <td>0.150442</td>\n",
       "    </tr>\n",
       "    <tr>\n",
       "      <th>488</th>\n",
       "      <td>2020-02-26</td>\n",
       "      <td>1.33</td>\n",
       "      <td>0.023077</td>\n",
       "    </tr>\n",
       "    <tr>\n",
       "      <th>489</th>\n",
       "      <td>2020-02-25</td>\n",
       "      <td>1.33</td>\n",
       "      <td>0.000000</td>\n",
       "    </tr>\n",
       "    <tr>\n",
       "      <th>490</th>\n",
       "      <td>2020-02-24</td>\n",
       "      <td>1.38</td>\n",
       "      <td>0.037594</td>\n",
       "    </tr>\n",
       "    <tr>\n",
       "      <th>491</th>\n",
       "      <td>2020-02-21</td>\n",
       "      <td>1.46</td>\n",
       "      <td>0.057971</td>\n",
       "    </tr>\n",
       "  </tbody>\n",
       "</table>\n",
       "<p>491 rows × 3 columns</p>\n",
       "</div>"
      ],
      "text/plain": [
       "           date  close_price  pct_change\n",
       "1    2022-02-03         1.82   -0.056995\n",
       "2    2022-02-02         1.78   -0.021978\n",
       "3    2022-02-01         1.81    0.016854\n",
       "4    2022-01-31         1.79   -0.011050\n",
       "5    2022-01-28         1.78   -0.005587\n",
       "..          ...          ...         ...\n",
       "487  2020-02-27         1.30    0.150442\n",
       "488  2020-02-26         1.33    0.023077\n",
       "489  2020-02-25         1.33    0.000000\n",
       "490  2020-02-24         1.38    0.037594\n",
       "491  2020-02-21         1.46    0.057971\n",
       "\n",
       "[491 rows x 3 columns]"
      ]
     },
     "execution_count": 12,
     "metadata": {},
     "output_type": "execute_result"
    }
   ],
   "source": [
    "t_price"
   ]
  },
  {
   "cell_type": "code",
   "execution_count": 13,
   "id": "c435dae9",
   "metadata": {},
   "outputs": [],
   "source": [
    "filepath = Path('DSCI510_final_project/data/Treasury_Price.csv')  \n",
    "filepath.parent.mkdir(parents=True, exist_ok=True)  \n",
    "t_price.to_csv(filepath) "
   ]
  },
  {
   "cell_type": "code",
   "execution_count": 14,
   "id": "396c3df5",
   "metadata": {},
   "outputs": [],
   "source": [
    "#https://data.nasdaq.com/data/USTREASURY/YIELD-treasury-yield-curve-rates\n",
    "#https://stackoverflow.com/questions/29928982/how-do-i-convert-dates-from-month-dd-yy-to-mm-dd-yy-in-python"
   ]
  },
  {
   "cell_type": "code",
   "execution_count": 2,
   "id": "c35a2c6e",
   "metadata": {},
   "outputs": [],
   "source": [
    "# Company News\n",
    "from urllib.request import urlopen\n",
    "from urllib.request import Request\n",
    "from bs4 import BeautifulSoup\n",
    "finviz_url = 'https://finviz.com/quote.ashx?t=AAPL'\n",
    "news_tables = {}\n",
    "req = Request(url=finviz_url,headers={'user-agent': 'my-app/0.0.1'}) \n",
    "resp = urlopen(req)    \n",
    "html = BeautifulSoup(resp, features=\"lxml\")\n",
    "news_table = html.find(id='news-table')\n",
    "news_tables['AAPL'] = news_table"
   ]
  },
  {
   "cell_type": "code",
   "execution_count": 3,
   "id": "2e908cc9",
   "metadata": {},
   "outputs": [
    {
     "name": "stdout",
     "output_type": "stream",
     "text": [
      "\n",
      "\n",
      "Recent News Headlines for AAPL: \n",
      "Earnings Season Has Been Just One More Reason to Sell Stocks ( May-01-22 09:27PM )\n",
      "Big Tech Cant Easily Fix the Stock Markets Woes This Time ( 09:26PM )\n",
      "Spotify Stock Sell-Off: The Truth Behind the Headlines ( 08:55AM )\n",
      "5G Stocks To Buy: How Next-Gen Cloud Will Create New Services ( 08:15AM )\n",
      "Lockdowns and supply chain disruption to accelerate Apple's move away from China, with India a likely beneficiary, analysts say ( 05:30AM )\n",
      "3 Deeply Discounted Stocks That Can Turn $300,000 Into $1 Million by 2030 ( 05:06AM )\n",
      "Warren Buffett: We didn't repurchase any Berkshire stock in April ( Apr-30-22 11:03AM )\n",
      "12 Safe Stocks To Buy For Beginner Investors ( 10:28AM )\n",
      "Buy These 2 Streaming Video Stocks Instead of Netflix ( 08:25AM )\n",
      "This Mid-Cap Stock Could Deliver Blockbuster Growth This Earnings Season ( 08:10AM )\n",
      "How Much Of Apple Inc. (NASDAQ:AAPL) Do Institutions Own? ( 08:04AM )\n",
      "Netflix's Video Game Plans Don't Make Any Sense ( 07:55AM )\n",
      "Is Meta Platforms Stock a Buy Now? ( 06:10AM )\n",
      "5 Stocks That Keep Beating the S&P 500 ( 06:00AM )\n",
      "Picture perfect: how to take, store and print photos from your phone ( 02:00AM )\n",
      "Apple and the Rest of Big Tech Couldnt Save the Stock Market ( Apr-29-22 07:59PM )\n",
      "Big Tech Couldnt Save the Stock Market. 5 Things We Learned From Tech Earnings. ( 07:51PM )\n",
      "3 Best Big Tech Stocks to Buy Now ( 06:45PM )\n",
      "Black Friday for The FAANG Who May Lose a Member ( 05:50PM )\n",
      "3 Reasons to Take Another Bite of Apple ( 05:37PM )\n",
      "Snap is the next Apple, its selfie drone is the biggest clue ( 04:59PM )\n",
      "Dow, S&P 500 book worst April since 1970 as U.S. stocks close sharply lower ( 04:57PM )\n",
      "Netflix workers lash out over layoffs at Tudum fan site ( 04:44PM )\n",
      "CORRECTED-US STOCKS-Wall Street closes sharply lower on Amazon slump, inflation worries ( 04:39PM )\n",
      "Berkshire Hathaway has a cash problem, analyst says ( 04:32PM )\n",
      "Fridays stock market close indicates 'classic bear market': Strategist ( 04:31PM )\n",
      "Stock Market Today: Stocks Close Out Worst April in Years With Another Slide ( 04:30PM )\n",
      "Stocks Crumbled to Finish April. Its the Worst Start to a Year in Decades. ( 04:27PM )\n",
      "Why Apple Stock Slumped Today ( 04:25PM )\n",
      "Stock Market Today - 4/29: Dow Tumbles 900 Points; Big Tech Earnings Whiff; Apple, Amazon Lead Markets Lower ( 04:18PM )\n",
      "Amazons Biggest Drop Since 2006 Caps Miserable Month for Tech ( 04:16PM )\n",
      "China Shutdowns Weigh On Apple's June-Quarter Outlook ( 04:13PM )\n",
      "Stocks Tank as Amazon Endures Worst Day Since 2006: Markets Wrap ( 04:01PM )\n",
      "10 Stocks Tumbling Today ( 03:54PM )\n",
      "Salesforce extends Silenced No More Act protections to all U.S. employees ( 03:49PM )\n",
      "11 Companies Making Headlines Following Earnings Reports ( 03:45PM )\n",
      "Stocks: S&P 500 on track for worst month since 2020 as volatility spikes ( 03:21PM )\n",
      "Apple Stock: Here's How to Trade It After the Earnings Report ( 02:59PM )\n",
      "Apple has a 'good problem' with supply chain issue, Citi analyst says ( 02:38PM )\n",
      "CNN+ debacle shows why cable companies struggle with streaming ( 01:26PM )\n",
      "Cary's Epic Games moves to stop Google from dumping music platform ( 01:25PM )\n",
      "Amazon could easily jack up the price of Prime, analyst explains ( 01:20PM )\n",
      "No Country for Old Tech Either ( 12:52PM )\n",
      "Salesforce Will Let Workers Break NDAs to Report Harassment, Discrimination ( 12:46PM )\n",
      "Triangle CREW names 2022 award winners for real estate ( 12:36PM )\n",
      "Indexes On Track For Weekly Losses; Amazon Stock Slides On Earnings ( 12:20PM )\n",
      "US STOCKS-Wall St slides as Amazon, Apple results weigh ( 12:04PM )\n",
      "Stock Market Volatile; Apple, Facebook, Amazon Are Key Earnings, Tesla CEO Elon Musk Buys Twitter: Weekly Review ( 11:59AM )\n",
      "Apple stock not immune to 'buyers' strike' in the tech sector: Analyst ( 11:41AM )\n",
      "US STOCKS-Wall St slides as Amazon, Apple results weigh ( 10:51AM )\n",
      "Stock Market Drops On Lackluster Earnings From Amazon, Apple ( 10:43AM )\n",
      "Dow Jones Falls, Nasdaq Skids On Amazon, AbbVie; Tesla Rises On Elon Musk Move ( 10:43AM )\n",
      "Berkshire Hathaway 2022 meeting: What to expect as Warren Buffett takes the stage ( 10:43AM )\n",
      "Is Roku Stock a Buy After Q1 Earnings? ( 10:30AM )\n",
      "Market check: Stocks edge lower, China stocks rally, Robinhood stock reverses losses ( 10:24AM )\n",
      "Top Millennial, Gen Z Stock Picks Shift To Energy Stocks; But Tesla Still No. 1 ( 10:20AM )\n",
      "Apple Will Have a Tough Next Quarter. The Headwinds Are Temporary, Wall Street Says. ( 10:15AM )\n",
      "Apple held $193 billion in cash at the end of the second quarter ( 09:58AM )\n",
      "Apple has a good problem in its earnings, tech analyst says ( 09:47AM )\n",
      "Apple Expects Supply Shortages to Slash Sales by Up to $8 Billion ( 09:47AM )\n",
      "Tech Stocks Lose $1.8 Trillion in a Month Thanks to Fed ( 09:39AM )\n",
      "Apple Stock Edges Higher As Supply Chain, China Caution Clouds iPhone-Drive Q2 Earnings Beat ( 09:38AM )\n",
      "Apple stock under pressure as tech giant warns of hit from China COVID-19 lockdowns ( 09:27AM )\n",
      "A Real Rally, GDP Downer, FOMC in a Pickle, Trading Apple and Amazon ( 07:54AM )\n",
      "Wall St set to open lower as Amazon, Apple results weigh ( 07:43AM )\n",
      "Is Microsoft Stock a Buy Now? ( 07:15AM )\n",
      "Tech Earnings Give Snapshot of Economic Headwinds Ahead ( 06:58AM )\n",
      "Apple unnerves investors with '$4 billion to $8 billion' guidance ( 06:55AM )\n",
      "Stocks Edge Lower, Apple, Amazon, Intel Tesla and Elon Musk In Focus - 5 Things You Must Know ( 05:47AM )\n",
      "The Zacks Analyst Blog Highlights Apple, Amazon, Rivian and Intel ( 05:40AM )\n",
      "Apple Has It Tough in the Short Term. Wall Street Sees the Headwinds as Transitory. ( 05:35AM )\n",
      "China smartphone sales see worst-performing quarter since 2020 with 14 pc decrease: Counterpoint Research ( 05:30AM )\n",
      "Warren Buffett Has Bet the Farm On These 3 Stocks ( 05:21AM )\n",
      "Dow Futures Waver, Apple and Amazon Stocks Slideand What Else Is Happening in the Stock Market Today ( 05:12AM )\n",
      "Arm China Appoints Co-CEOs to Replace Ousted Rogue Executive ( 02:43AM )\n",
      "Apple (AAPL) Q2 2022 Earnings Call Transcript ( 01:01AM )\n",
      "Dow Jones Futures: Market Rebounds, But For How Long? Apple, Amazon Hit Techs ( Apr-28-22 09:46PM )\n",
      "Big Tech is no longer winning as big, but these two stocks still seem safe ( 09:02PM )\n",
      "It Felt Fishy: Game Operator Rebuffed Fake Data Request ( 07:53PM )\n",
      "Apple Says Covid-19 Lockdowns in China Loom Over Sales ( 07:11PM )\n",
      "Cramer's Mad Money Recap 4/28: Google, Meta, Apple, Microsoft ( 06:58PM )\n",
      "What Apple and Amazon Said After Hours Thursday ( 06:33PM )\n",
      "Apple stock swings to a loss after executives warn of billions in added costs ( 05:51PM )\n",
      "Apple Posted Another Great Quarter. The Next One Might Not Be As Good. ( 05:41PM )\n",
      "Apple Earnings: What Happened with AAPL ( 05:24PM )\n",
      "Apple CEO Tim Cook Says Tech Giant Honored To Be Stewards Of CODA, Hails Apple TV+ Awards Haul After Strong Q2 Earnings Report  Update ( 05:20PM )\n",
      "Apple CEO deserves a lot of credit amid supply chain issues: Analyst ( 05:10PM )\n",
      "Why tech giants like Meta change their names ( 05:01PM )\n",
      "Apple beats earnings estimates, raises dividend ( 04:53PM )\n",
      "Apple Services Revenue Climbs 17% to Record $19.8 Billion, as iPhone Growth Slows ( 04:43PM )\n",
      "Apple beats Wall Street estimates despite supply chain disruptions ( 04:33PM )\n",
      "Apple beats sales estimates with big bumps in iPhones, services ( 04:32PM )\n",
      "Apple Reports Second Quarter Results ( 04:30PM )\n",
      "Stock Market Today - 4/28: Stocks Bounce Back, Tech Boost; GDP Disappoints, Apple In Focus ( 04:28PM )\n",
      "Stocks set to erase losses from earlier in the week ( 04:21PM )\n",
      "US STOCKS-Wall Street ends sharply higher, lifted by Meta and Apple ( 04:19PM )\n",
      "Apple Could Fall From the Tree in Q3, Warns Analyst ( 03:56PM )\n",
      "What Mark Zuckerberg Said That Calmed Investors ( 03:30PM )\n",
      "Stocks rally as investors shake off negative GDP print ( 03:22PM )\n",
      "Qualcomm stock heads for best day in months as Wall Street applauds smartphone strength, but shows some caution ( 02:15PM )\n"
     ]
    }
   ],
   "source": [
    "df = news_tables['AAPL']\n",
    "df_tr = df.findAll('tr')\n",
    "print ('\\n')\n",
    "print ('Recent News Headlines for {}: '.format('AAPL'))\n",
    "for i, table_row in enumerate(df_tr):\n",
    "    a_text = table_row.a.text\n",
    "    td_text = table_row.td.text\n",
    "    td_text = td_text.strip()\n",
    "    print(a_text,'(',td_text,')')"
   ]
  },
  {
   "cell_type": "code",
   "execution_count": 4,
   "id": "cd027a7f",
   "metadata": {},
   "outputs": [],
   "source": [
    "parsed_news = []\n",
    "for file_name, news_table in news_tables.items():\n",
    "    for x in news_table.findAll('tr'):\n",
    "        text = x.a.get_text() \n",
    "        date_scrape = x.td.text.split()\n",
    "\n",
    "        if len(date_scrape) == 1:\n",
    "            time = date_scrape[0]\n",
    "            \n",
    "        else:\n",
    "            date = date_scrape[0]\n",
    "            time = date_scrape[1]\n",
    "\n",
    "        ticker = file_name.split('_')[0]\n",
    "        \n",
    "        parsed_news.append([ticker, date, time, text])"
   ]
  },
  {
   "cell_type": "code",
   "execution_count": 9,
   "id": "91a9ca4a",
   "metadata": {},
   "outputs": [],
   "source": [
    "from datetime import datetime\n",
    "news = pd.DataFrame(parsed_news, columns = ['Stock', 'Date', 'Time', 'News Headlines'])\n",
    "news['Date'] = pd.to_datetime(news['Date'], format='%b-%d-%y')"
   ]
  },
  {
   "cell_type": "code",
   "execution_count": 10,
   "id": "f769021f",
   "metadata": {},
   "outputs": [
    {
     "data": {
      "text/html": [
       "<div>\n",
       "<style scoped>\n",
       "    .dataframe tbody tr th:only-of-type {\n",
       "        vertical-align: middle;\n",
       "    }\n",
       "\n",
       "    .dataframe tbody tr th {\n",
       "        vertical-align: top;\n",
       "    }\n",
       "\n",
       "    .dataframe thead th {\n",
       "        text-align: right;\n",
       "    }\n",
       "</style>\n",
       "<table border=\"1\" class=\"dataframe\">\n",
       "  <thead>\n",
       "    <tr style=\"text-align: right;\">\n",
       "      <th></th>\n",
       "      <th>Stock</th>\n",
       "      <th>Date</th>\n",
       "      <th>Time</th>\n",
       "      <th>News Headlines</th>\n",
       "    </tr>\n",
       "  </thead>\n",
       "  <tbody>\n",
       "    <tr>\n",
       "      <th>0</th>\n",
       "      <td>AAPL</td>\n",
       "      <td>2022-05-01</td>\n",
       "      <td>09:27PM</td>\n",
       "      <td>Earnings Season Has Been Just One More Reason ...</td>\n",
       "    </tr>\n",
       "    <tr>\n",
       "      <th>1</th>\n",
       "      <td>AAPL</td>\n",
       "      <td>2022-05-01</td>\n",
       "      <td>09:26PM</td>\n",
       "      <td>Big Tech Cant Easily Fix the Stock Markets Woe...</td>\n",
       "    </tr>\n",
       "    <tr>\n",
       "      <th>2</th>\n",
       "      <td>AAPL</td>\n",
       "      <td>2022-05-01</td>\n",
       "      <td>08:55AM</td>\n",
       "      <td>Spotify Stock Sell-Off: The Truth Behind the H...</td>\n",
       "    </tr>\n",
       "    <tr>\n",
       "      <th>3</th>\n",
       "      <td>AAPL</td>\n",
       "      <td>2022-05-01</td>\n",
       "      <td>08:15AM</td>\n",
       "      <td>5G Stocks To Buy: How Next-Gen Cloud Will Crea...</td>\n",
       "    </tr>\n",
       "    <tr>\n",
       "      <th>4</th>\n",
       "      <td>AAPL</td>\n",
       "      <td>2022-05-01</td>\n",
       "      <td>05:30AM</td>\n",
       "      <td>Lockdowns and supply chain disruption to accel...</td>\n",
       "    </tr>\n",
       "    <tr>\n",
       "      <th>...</th>\n",
       "      <td>...</td>\n",
       "      <td>...</td>\n",
       "      <td>...</td>\n",
       "      <td>...</td>\n",
       "    </tr>\n",
       "    <tr>\n",
       "      <th>95</th>\n",
       "      <td>AAPL</td>\n",
       "      <td>2022-04-28</td>\n",
       "      <td>04:19PM</td>\n",
       "      <td>US STOCKS-Wall Street ends sharply higher, lif...</td>\n",
       "    </tr>\n",
       "    <tr>\n",
       "      <th>96</th>\n",
       "      <td>AAPL</td>\n",
       "      <td>2022-04-28</td>\n",
       "      <td>03:56PM</td>\n",
       "      <td>Apple Could Fall From the Tree in Q3, Warns An...</td>\n",
       "    </tr>\n",
       "    <tr>\n",
       "      <th>97</th>\n",
       "      <td>AAPL</td>\n",
       "      <td>2022-04-28</td>\n",
       "      <td>03:30PM</td>\n",
       "      <td>What Mark Zuckerberg Said That Calmed Investors</td>\n",
       "    </tr>\n",
       "    <tr>\n",
       "      <th>98</th>\n",
       "      <td>AAPL</td>\n",
       "      <td>2022-04-28</td>\n",
       "      <td>03:22PM</td>\n",
       "      <td>Stocks rally as investors shake off negative G...</td>\n",
       "    </tr>\n",
       "    <tr>\n",
       "      <th>99</th>\n",
       "      <td>AAPL</td>\n",
       "      <td>2022-04-28</td>\n",
       "      <td>02:15PM</td>\n",
       "      <td>Qualcomm stock heads for best day in months as...</td>\n",
       "    </tr>\n",
       "  </tbody>\n",
       "</table>\n",
       "<p>100 rows × 4 columns</p>\n",
       "</div>"
      ],
      "text/plain": [
       "   Stock       Date     Time  \\\n",
       "0   AAPL 2022-05-01  09:27PM   \n",
       "1   AAPL 2022-05-01  09:26PM   \n",
       "2   AAPL 2022-05-01  08:55AM   \n",
       "3   AAPL 2022-05-01  08:15AM   \n",
       "4   AAPL 2022-05-01  05:30AM   \n",
       "..   ...        ...      ...   \n",
       "95  AAPL 2022-04-28  04:19PM   \n",
       "96  AAPL 2022-04-28  03:56PM   \n",
       "97  AAPL 2022-04-28  03:30PM   \n",
       "98  AAPL 2022-04-28  03:22PM   \n",
       "99  AAPL 2022-04-28  02:15PM   \n",
       "\n",
       "                                       News Headlines  \n",
       "0   Earnings Season Has Been Just One More Reason ...  \n",
       "1   Big Tech Cant Easily Fix the Stock Markets Woe...  \n",
       "2   Spotify Stock Sell-Off: The Truth Behind the H...  \n",
       "3   5G Stocks To Buy: How Next-Gen Cloud Will Crea...  \n",
       "4   Lockdowns and supply chain disruption to accel...  \n",
       "..                                                ...  \n",
       "95  US STOCKS-Wall Street ends sharply higher, lif...  \n",
       "96  Apple Could Fall From the Tree in Q3, Warns An...  \n",
       "97    What Mark Zuckerberg Said That Calmed Investors  \n",
       "98  Stocks rally as investors shake off negative G...  \n",
       "99  Qualcomm stock heads for best day in months as...  \n",
       "\n",
       "[100 rows x 4 columns]"
      ]
     },
     "execution_count": 10,
     "metadata": {},
     "output_type": "execute_result"
    }
   ],
   "source": [
    "news"
   ]
  },
  {
   "cell_type": "markdown",
   "id": "4b3bce1e",
   "metadata": {},
   "source": [
    "### Stock Price"
   ]
  },
  {
   "cell_type": "code",
   "execution_count": 20,
   "id": "f49f3b41",
   "metadata": {},
   "outputs": [],
   "source": [
    "filepath = Path('DSCI510_final_project/data/News.csv')  \n",
    "filepath.parent.mkdir(parents=True, exist_ok=True)  \n",
    "news.to_csv(filepath) "
   ]
  },
  {
   "cell_type": "code",
   "execution_count": 10,
   "id": "fede6cd9",
   "metadata": {},
   "outputs": [
    {
     "data": {
      "text/html": [
       "<div>\n",
       "<style scoped>\n",
       "    .dataframe tbody tr th:only-of-type {\n",
       "        vertical-align: middle;\n",
       "    }\n",
       "\n",
       "    .dataframe tbody tr th {\n",
       "        vertical-align: top;\n",
       "    }\n",
       "\n",
       "    .dataframe thead th {\n",
       "        text-align: right;\n",
       "    }\n",
       "</style>\n",
       "<table border=\"1\" class=\"dataframe\">\n",
       "  <thead>\n",
       "    <tr style=\"text-align: right;\">\n",
       "      <th></th>\n",
       "      <th>date</th>\n",
       "      <th>close_price</th>\n",
       "      <th>pct_change</th>\n",
       "    </tr>\n",
       "  </thead>\n",
       "  <tbody>\n",
       "    <tr>\n",
       "      <th>1</th>\n",
       "      <td>2021-04-28</td>\n",
       "      <td>133.58</td>\n",
       "      <td>-0.006027</td>\n",
       "    </tr>\n",
       "    <tr>\n",
       "      <th>2</th>\n",
       "      <td>2021-04-29</td>\n",
       "      <td>133.48</td>\n",
       "      <td>-0.000749</td>\n",
       "    </tr>\n",
       "    <tr>\n",
       "      <th>3</th>\n",
       "      <td>2021-04-30</td>\n",
       "      <td>131.46</td>\n",
       "      <td>-0.015133</td>\n",
       "    </tr>\n",
       "    <tr>\n",
       "      <th>4</th>\n",
       "      <td>2021-05-03</td>\n",
       "      <td>132.54</td>\n",
       "      <td>0.008215</td>\n",
       "    </tr>\n",
       "    <tr>\n",
       "      <th>5</th>\n",
       "      <td>2021-05-04</td>\n",
       "      <td>127.85</td>\n",
       "      <td>-0.035386</td>\n",
       "    </tr>\n",
       "    <tr>\n",
       "      <th>...</th>\n",
       "      <td>...</td>\n",
       "      <td>...</td>\n",
       "      <td>...</td>\n",
       "    </tr>\n",
       "    <tr>\n",
       "      <th>246</th>\n",
       "      <td>2022-04-18</td>\n",
       "      <td>165.07</td>\n",
       "      <td>-0.001331</td>\n",
       "    </tr>\n",
       "    <tr>\n",
       "      <th>247</th>\n",
       "      <td>2022-04-19</td>\n",
       "      <td>167.40</td>\n",
       "      <td>0.014115</td>\n",
       "    </tr>\n",
       "    <tr>\n",
       "      <th>248</th>\n",
       "      <td>2022-04-20</td>\n",
       "      <td>167.23</td>\n",
       "      <td>-0.001016</td>\n",
       "    </tr>\n",
       "    <tr>\n",
       "      <th>249</th>\n",
       "      <td>2022-04-21</td>\n",
       "      <td>166.42</td>\n",
       "      <td>-0.004844</td>\n",
       "    </tr>\n",
       "    <tr>\n",
       "      <th>250</th>\n",
       "      <td>2022-04-22</td>\n",
       "      <td>161.79</td>\n",
       "      <td>-0.027821</td>\n",
       "    </tr>\n",
       "  </tbody>\n",
       "</table>\n",
       "<p>250 rows × 3 columns</p>\n",
       "</div>"
      ],
      "text/plain": [
       "           date  close_price  pct_change\n",
       "1    2021-04-28       133.58   -0.006027\n",
       "2    2021-04-29       133.48   -0.000749\n",
       "3    2021-04-30       131.46   -0.015133\n",
       "4    2021-05-03       132.54    0.008215\n",
       "5    2021-05-04       127.85   -0.035386\n",
       "..          ...          ...         ...\n",
       "246  2022-04-18       165.07   -0.001331\n",
       "247  2022-04-19       167.40    0.014115\n",
       "248  2022-04-20       167.23   -0.001016\n",
       "249  2022-04-21       166.42   -0.004844\n",
       "250  2022-04-22       161.79   -0.027821\n",
       "\n",
       "[250 rows x 3 columns]"
      ]
     },
     "execution_count": 10,
     "metadata": {},
     "output_type": "execute_result"
    }
   ],
   "source": [
    "stock_price"
   ]
  },
  {
   "cell_type": "code",
   "execution_count": 19,
   "id": "a6070997",
   "metadata": {},
   "outputs": [
    {
     "data": {
      "text/plain": [
       "date           0\n",
       "close_price    0\n",
       "pct_change     0\n",
       "dtype: int64"
      ]
     },
     "execution_count": 19,
     "metadata": {},
     "output_type": "execute_result"
    }
   ],
   "source": [
    "stock_price.isnull().sum()"
   ]
  },
  {
   "cell_type": "code",
   "execution_count": 16,
   "id": "d45f602a",
   "metadata": {},
   "outputs": [
    {
     "data": {
      "image/png": "[encoded data removed]",
      "text/plain": [
       "<Figure size 432x288 with 1 Axes>"
      ]
     },
     "metadata": {
      "needs_background": "light"
     },
     "output_type": "display_data"
    },
    {
     "data": {
      "text/plain": [
       "<Figure size 1080x216 with 0 Axes>"
      ]
     },
     "metadata": {},
     "output_type": "display_data"
    }
   ],
   "source": [
    "import matplotlib.pyplot as plt\n",
    "plt.plot(stock_price['date'], stock_price['close_price'], color='red')\n",
    "plt.title('AAPL Stock Price Vs Date', fontsize=14)\n",
    "plt.ylabel('AAPL Stock Price', fontsize=14)\n",
    "plt.figure(figsize=(15, 3))\n",
    "plt.show()"
   ]
  },
  {
   "cell_type": "code",
   "execution_count": 18,
   "id": "e0164da5",
   "metadata": {},
   "outputs": [
    {
     "data": {
      "image/png": "[encoded data removed]",
      "text/plain": [
       "<Figure size 432x288 with 1 Axes>"
      ]
     },
     "metadata": {
      "needs_background": "light"
     },
     "output_type": "display_data"
    }
   ],
   "source": [
    "from statsmodels.graphics.tsaplots import plot_acf\n",
    "data = stock_price[['date', 'close_price']].set_index(['date'])\n",
    "# Calculate the ACF (via statsmodel)\n",
    "plot_acf(data)\n",
    "# Show the data as a plot (via matplotlib)\n",
    "plt.show()"
   ]
  },
  {
   "cell_type": "code",
   "execution_count": 22,
   "id": "ddf2179c",
   "metadata": {},
   "outputs": [
    {
     "data": {
      "image/png": "[encoded data removed]",
      "text/plain": [
       "<Figure size 1080x576 with 3 Axes>"
      ]
     },
     "metadata": {
      "needs_background": "light"
     },
     "output_type": "display_data"
    }
   ],
   "source": [
    "from statsmodels.tsa.seasonal import seasonal_decompose\n",
    "\n",
    "res = seasonal_decompose(data, model = \"additive\",period = 30)\n",
    "\n",
    "fig, (ax1,ax2,ax3) = plt.subplots(3,1, figsize=(15,8))\n",
    "res.trend.plot(ax=ax1,ylabel = \"trend\")\n",
    "res.resid.plot(ax=ax2,ylabel = \"seasoanlity\")\n",
    "res.seasonal.plot(ax=ax3,ylabel = \"residual\")\n",
    "plt.show()"
   ]
  },
  {
   "cell_type": "code",
   "execution_count": 24,
   "id": "a4bb21a2",
   "metadata": {},
   "outputs": [
    {
     "name": "stdout",
     "output_type": "stream",
     "text": [
      "Collecting pandas-ta\n",
      "  Downloading pandas_ta-0.3.14b.tar.gz (115 kB)\n",
      "\u001b[K     |████████████████████████████████| 115 kB 2.0 MB/s eta 0:00:01\n",
      "\u001b[?25hRequirement already satisfied: pandas in /Users/mac/opt/anaconda3/lib/python3.7/site-packages (from pandas-ta) (1.3.4)\n",
      "Requirement already satisfied: python-dateutil>=2.7.3 in /Users/mac/opt/anaconda3/lib/python3.7/site-packages (from pandas->pandas-ta) (2.8.2)\n",
      "Requirement already satisfied: pytz>=2017.3 in /Users/mac/opt/anaconda3/lib/python3.7/site-packages (from pandas->pandas-ta) (2021.3)\n",
      "Requirement already satisfied: numpy>=1.17.3 in /Users/mac/opt/anaconda3/lib/python3.7/site-packages (from pandas->pandas-ta) (1.21.2)\n",
      "Requirement already satisfied: six>=1.5 in /Users/mac/opt/anaconda3/lib/python3.7/site-packages (from python-dateutil>=2.7.3->pandas->pandas-ta) (1.16.0)\n",
      "Building wheels for collected packages: pandas-ta\n",
      "  Building wheel for pandas-ta (setup.py) ... \u001b[?25ldone\n",
      "\u001b[?25h  Created wheel for pandas-ta: filename=pandas_ta-0.3.14b0-py3-none-any.whl size=218923 sha256=c4c06f4e456dbf372cc80acd31d3ed8e6ad225ffe1a28ea1dccb5633a720750f\n",
      "  Stored in directory: /Users/mac/Library/Caches/pip/wheels/0b/81/f0/cca85757840e4616a2c6b9fe12569d97d324c27cac60724c58\n",
      "Successfully built pandas-ta\n",
      "Installing collected packages: pandas-ta\n",
      "Successfully installed pandas-ta-0.3.14b0\n"
     ]
    }
   ],
   "source": [
    "! pip install pandas-ta"
   ]
  },
  {
   "cell_type": "code",
   "execution_count": 25,
   "id": "4d22a5c9",
   "metadata": {},
   "outputs": [
    {
     "data": {
      "text/plain": [
       "1             NaN\n",
       "2             NaN\n",
       "3             NaN\n",
       "4             NaN\n",
       "5             NaN\n",
       "          ...    \n",
       "246    168.884711\n",
       "247    168.614764\n",
       "248    168.362988\n",
       "249    168.009718\n",
       "250    166.878860\n",
       "Name: EMA_10, Length: 250, dtype: float64"
      ]
     },
     "execution_count": 25,
     "metadata": {},
     "output_type": "execute_result"
    }
   ],
   "source": [
    "import pandas_ta\n",
    "stock_price.ta.ema(close='close_price', length=10, append=True)"
   ]
  },
  {
   "cell_type": "code",
   "execution_count": 27,
   "id": "0a84caa0",
   "metadata": {},
   "outputs": [],
   "source": [
    "# Drop the first n-rows\n",
    "stock_price = stock_price.iloc[10:]\n",
    "stock_price"
   ]
  },
  {
   "cell_type": "code",
   "execution_count": 34,
   "id": "b01769d7",
   "metadata": {},
   "outputs": [
    {
     "data": {
      "image/png": "[encoded data removed]",
      "text/plain": [
       "<Figure size 1728x576 with 1 Axes>"
      ]
     },
     "metadata": {
      "needs_background": "light"
     },
     "output_type": "display_data"
    },
    {
     "name": "stdout",
     "output_type": "stream",
     "text": [
      "Results of Dickey-Fuller Test:\n",
      "Test Statistic                  -1.811490\n",
      "p-value                          0.374772\n",
      "#Lags Used                       2.000000\n",
      "Number of Observations Used    237.000000\n",
      "Critical Value (1%)             -3.458247\n",
      "Critical Value (5%)             -2.873814\n",
      "Critical Value (10%)            -2.573311\n",
      "dtype: float64\n"
     ]
    }
   ],
   "source": [
    "from statsmodels.tsa.stattools import adfuller\n",
    "data_new = stock_price[['date', 'EMA_10']].set_index(['date'])\n",
    "def test_stationarity(timeseries):\n",
    "    \n",
    "    # Calculate rolling mean and sd\n",
    "    rolmean = timeseries.rolling(4).mean()\n",
    "    rolstd = timeseries.rolling(4).std()\n",
    "\n",
    "    # Plot the rolling stat\n",
    "    plt.figure(figsize=(24, 8))   \n",
    "    orig = plt.plot(timeseries, color='blue',label='Original') \n",
    "    mean = plt.plot(rolmean, color='red', label='Rolling Mean')\n",
    "    std = plt.plot(rolstd, color='black', label = 'Rolling Std') \n",
    "    \n",
    "    plt.legend(loc='best')\n",
    "    plt.title('Rolling Mean & Standard Deviation')\n",
    "    plt.show(block=False)\n",
    "    \n",
    "    # ADF Test (stationarity test)\n",
    "    print('Results of Dickey-Fuller Test:')\n",
    "    dftest = adfuller(timeseries, autolag='AIC')\n",
    "    dfoutput = pd.Series(dftest[0:4], index=['Test Statistic','p-value','#Lags Used',\n",
    "                                             'Number of Observations Used'])\n",
    "    for key,value in dftest[4].items():\n",
    "        dfoutput['Critical Value (%s)'%key] = value\n",
    "    print(dfoutput)\n",
    "test_stationarity(data)"
   ]
  },
  {
   "cell_type": "markdown",
   "id": "e0e49f00",
   "metadata": {},
   "source": [
    "### Sentiment Analysis"
   ]
  },
  {
   "cell_type": "code",
   "execution_count": 17,
   "id": "d67e124c",
   "metadata": {},
   "outputs": [],
   "source": [
    "import numpy as np\n",
    "import matplotlib.pyplot as plt"
   ]
  },
  {
   "cell_type": "code",
   "execution_count": 11,
   "id": "864b4526",
   "metadata": {},
   "outputs": [
    {
     "data": {
      "text/html": [
       "<div>\n",
       "<style scoped>\n",
       "    .dataframe tbody tr th:only-of-type {\n",
       "        vertical-align: middle;\n",
       "    }\n",
       "\n",
       "    .dataframe tbody tr th {\n",
       "        vertical-align: top;\n",
       "    }\n",
       "\n",
       "    .dataframe thead th {\n",
       "        text-align: right;\n",
       "    }\n",
       "</style>\n",
       "<table border=\"1\" class=\"dataframe\">\n",
       "  <thead>\n",
       "    <tr style=\"text-align: right;\">\n",
       "      <th></th>\n",
       "      <th>Stock</th>\n",
       "      <th>Date</th>\n",
       "      <th>Time</th>\n",
       "      <th>News Headlines</th>\n",
       "    </tr>\n",
       "  </thead>\n",
       "  <tbody>\n",
       "    <tr>\n",
       "      <th>0</th>\n",
       "      <td>AAPL</td>\n",
       "      <td>2022-05-01</td>\n",
       "      <td>09:27PM</td>\n",
       "      <td>Earnings Season Has Been Just One More Reason ...</td>\n",
       "    </tr>\n",
       "    <tr>\n",
       "      <th>1</th>\n",
       "      <td>AAPL</td>\n",
       "      <td>2022-05-01</td>\n",
       "      <td>09:26PM</td>\n",
       "      <td>Big Tech Cant Easily Fix the Stock Markets Woe...</td>\n",
       "    </tr>\n",
       "    <tr>\n",
       "      <th>2</th>\n",
       "      <td>AAPL</td>\n",
       "      <td>2022-05-01</td>\n",
       "      <td>08:55AM</td>\n",
       "      <td>Spotify Stock Sell-Off: The Truth Behind the H...</td>\n",
       "    </tr>\n",
       "    <tr>\n",
       "      <th>3</th>\n",
       "      <td>AAPL</td>\n",
       "      <td>2022-05-01</td>\n",
       "      <td>08:15AM</td>\n",
       "      <td>5G Stocks To Buy: How Next-Gen Cloud Will Crea...</td>\n",
       "    </tr>\n",
       "    <tr>\n",
       "      <th>4</th>\n",
       "      <td>AAPL</td>\n",
       "      <td>2022-05-01</td>\n",
       "      <td>05:30AM</td>\n",
       "      <td>Lockdowns and supply chain disruption to accel...</td>\n",
       "    </tr>\n",
       "    <tr>\n",
       "      <th>...</th>\n",
       "      <td>...</td>\n",
       "      <td>...</td>\n",
       "      <td>...</td>\n",
       "      <td>...</td>\n",
       "    </tr>\n",
       "    <tr>\n",
       "      <th>95</th>\n",
       "      <td>AAPL</td>\n",
       "      <td>2022-04-28</td>\n",
       "      <td>04:19PM</td>\n",
       "      <td>US STOCKS-Wall Street ends sharply higher, lif...</td>\n",
       "    </tr>\n",
       "    <tr>\n",
       "      <th>96</th>\n",
       "      <td>AAPL</td>\n",
       "      <td>2022-04-28</td>\n",
       "      <td>03:56PM</td>\n",
       "      <td>Apple Could Fall From the Tree in Q3, Warns An...</td>\n",
       "    </tr>\n",
       "    <tr>\n",
       "      <th>97</th>\n",
       "      <td>AAPL</td>\n",
       "      <td>2022-04-28</td>\n",
       "      <td>03:30PM</td>\n",
       "      <td>What Mark Zuckerberg Said That Calmed Investors</td>\n",
       "    </tr>\n",
       "    <tr>\n",
       "      <th>98</th>\n",
       "      <td>AAPL</td>\n",
       "      <td>2022-04-28</td>\n",
       "      <td>03:22PM</td>\n",
       "      <td>Stocks rally as investors shake off negative G...</td>\n",
       "    </tr>\n",
       "    <tr>\n",
       "      <th>99</th>\n",
       "      <td>AAPL</td>\n",
       "      <td>2022-04-28</td>\n",
       "      <td>02:15PM</td>\n",
       "      <td>Qualcomm stock heads for best day in months as...</td>\n",
       "    </tr>\n",
       "  </tbody>\n",
       "</table>\n",
       "<p>100 rows × 4 columns</p>\n",
       "</div>"
      ],
      "text/plain": [
       "   Stock       Date     Time  \\\n",
       "0   AAPL 2022-05-01  09:27PM   \n",
       "1   AAPL 2022-05-01  09:26PM   \n",
       "2   AAPL 2022-05-01  08:55AM   \n",
       "3   AAPL 2022-05-01  08:15AM   \n",
       "4   AAPL 2022-05-01  05:30AM   \n",
       "..   ...        ...      ...   \n",
       "95  AAPL 2022-04-28  04:19PM   \n",
       "96  AAPL 2022-04-28  03:56PM   \n",
       "97  AAPL 2022-04-28  03:30PM   \n",
       "98  AAPL 2022-04-28  03:22PM   \n",
       "99  AAPL 2022-04-28  02:15PM   \n",
       "\n",
       "                                       News Headlines  \n",
       "0   Earnings Season Has Been Just One More Reason ...  \n",
       "1   Big Tech Cant Easily Fix the Stock Markets Woe...  \n",
       "2   Spotify Stock Sell-Off: The Truth Behind the H...  \n",
       "3   5G Stocks To Buy: How Next-Gen Cloud Will Crea...  \n",
       "4   Lockdowns and supply chain disruption to accel...  \n",
       "..                                                ...  \n",
       "95  US STOCKS-Wall Street ends sharply higher, lif...  \n",
       "96  Apple Could Fall From the Tree in Q3, Warns An...  \n",
       "97    What Mark Zuckerberg Said That Calmed Investors  \n",
       "98  Stocks rally as investors shake off negative G...  \n",
       "99  Qualcomm stock heads for best day in months as...  \n",
       "\n",
       "[100 rows x 4 columns]"
      ]
     },
     "execution_count": 11,
     "metadata": {},
     "output_type": "execute_result"
    }
   ],
   "source": [
    "news"
   ]
  },
  {
   "cell_type": "code",
   "execution_count": 14,
   "id": "7fcd5b9e",
   "metadata": {},
   "outputs": [
    {
     "name": "stderr",
     "output_type": "stream",
     "text": [
      "[nltk_data] Downloading package vader_lexicon to\n",
      "[nltk_data]     /Users/mac/nltk_data...\n"
     ]
    },
    {
     "data": {
      "text/plain": [
       "True"
      ]
     },
     "execution_count": 14,
     "metadata": {},
     "output_type": "execute_result"
    }
   ],
   "source": [
    "import nltk\n",
    "nltk.downloader.download('vader_lexicon')"
   ]
  },
  {
   "cell_type": "code",
   "execution_count": 15,
   "id": "18f3e363",
   "metadata": {},
   "outputs": [],
   "source": [
    "#from nltk.sentiment.vader import SentimentIntensityAnalyzer\n",
    "analyzer = SentimentIntensityAnalyzer()\n",
    "scores = news['News Headlines'].apply(analyzer.polarity_scores).tolist()\n",
    "df_scores = pd.DataFrame(scores)\n",
    "news = news.join(df_scores, rsuffix='_right')"
   ]
  },
  {
   "cell_type": "code",
   "execution_count": 20,
   "id": "0947fb16",
   "metadata": {},
   "outputs": [],
   "source": [
    "score = news['compound'].tolist()"
   ]
  },
  {
   "cell_type": "code",
   "execution_count": null,
   "id": "ba2827a0",
   "metadata": {},
   "outputs": [],
   "source": []
  }
 ],
 "metadata": {
  "kernelspec": {
   "display_name": "Python 3 (ipykernel)",
   "language": "python",
   "name": "python3"
  },
  "language_info": {
   "codemirror_mode": {
    "name": "ipython",
    "version": 3
   },
   "file_extension": ".py",
   "mimetype": "text/x-python",
   "name": "python",
   "nbconvert_exporter": "python",
   "pygments_lexer": "ipython3",
   "version": "3.7.4"
  }
 },
 "nbformat": 4,
 "nbformat_minor": 5
}
